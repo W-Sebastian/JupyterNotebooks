{
  "nbformat": 4,
  "nbformat_minor": 0,
  "metadata": {
    "colab": {
      "name": "Structuri Ușoare - Grindă.ipynb",
      "provenance": [],
      "collapsed_sections": [],
      "authorship_tag": "ABX9TyM4HVci3uyEvu+Z6gA8cWgq",
      "include_colab_link": true
    },
    "kernelspec": {
      "name": "python3",
      "display_name": "Python 3"
    }
  },
  "cells": [
    {
      "cell_type": "markdown",
      "metadata": {
        "id": "view-in-github",
        "colab_type": "text"
      },
      "source": [
        "<a href=\"https://colab.research.google.com/github/W-Sebastian/JupyterNotebooks/blob/master/Structuri_U%C8%99oare_Grind%C4%83.ipynb\" target=\"_parent\"><img src=\"https://colab.research.google.com/assets/colab-badge.svg\" alt=\"Open In Colab\"/></a>"
      ]
    },
    {
      "cell_type": "markdown",
      "metadata": {
        "id": "lr07asXxYd6M",
        "colab_type": "text"
      },
      "source": [
        "# Analiza unei grinzi sandwich încastrată la un capăt\n",
        "\n",
        "## Limitări\n",
        "\n",
        "1. Toate valorile din document sunt ținute în MKS (meter/kilogram/second) pentru a păsta uniformitatea calculelor și a reduce potențiale probleme legate de conversia de unit-uri. Conversile din alte unităti (mm, MPa) sunt făcut înainte sau după calculele propriu-zise;\n",
        "\n",
        "2. Se consideră în calcule o grindă cu înveliș exterior aplicat doar deasupra și sub grindă, fără a considera marginile ei;\n",
        "\n",
        "3. Se folosesc în calcule simplificările pentru grinzile de tip \n",
        "\n",
        "Definim materialele posibile pentru miez respectiv înveliș:"
      ]
    },
    {
      "cell_type": "code",
      "metadata": {
        "id": "siSJVZy3Ri2p",
        "colab_type": "code",
        "colab": {}
      },
      "source": [
        "from enum import Enum\n",
        "\n",
        "class ShellMaterials(Enum):\n",
        "    Steel = 1\n",
        "    Aluminium = 2\n",
        "    GFRP = 3\n",
        "    CFRP = 4\n",
        "\n",
        "class CoreMaterials(Enum):\n",
        "    DivinycellH60 = 1\n",
        "    DivinycellH100 = 2\n",
        "    DivinycellH130 = 3\n",
        "    DivinycellH200 = 4"
      ],
      "execution_count": 0,
      "outputs": []
    },
    {
      "cell_type": "markdown",
      "metadata": {
        "id": "Ov8zhf3SYu3Q",
        "colab_type": "text"
      },
      "source": [
        "Pentru fiecare tip de material vom avea nevoie de o serie de parametrii; ca să fie mai ușor de lucrat cu ei o să definim niștre structuri pentru a ține parametrii la un loc. Pe cât posibil se va folosi terminologia folosită în cursuri:"
      ]
    },
    {
      "cell_type": "code",
      "metadata": {
        "id": "L626BABzY6bg",
        "colab_type": "code",
        "colab": {}
      },
      "source": [
        "class ShellMaterialParameters:\n",
        "\n",
        "  def __init__(self, Density, E, Tau_af, Cost):\n",
        "    self.Density = Density\n",
        "    self.E = E # Longitudinal Elastic Modulus\n",
        "    self.tau_af = Tau_af # Persmissible Shear Stress (skin)\n",
        "    self.Cost = Cost # euro/kg\n",
        "\n",
        "  def __str__(self):\n",
        "    return \"ShellMaterial: Density={} kg/m^3; E={} Pa; Tau={} Pa; Cost={} euro/kg\".format(self.Density, self.E, self.tau_af, self.Cost)\n",
        "\n",
        "  def __repr__(self):\n",
        "    return str(self)\n",
        "\n",
        "class CoreMaterialParameters:\n",
        "\n",
        "  def __init__(self, Density, Ec, Gc, Tau_ac, Cost):\n",
        "    self.Density = Density\n",
        "    self.Ec = Ec # Longitudinal Elastic Modulus\n",
        "    self.Gc = Gc # Transversal Elastic Modulus\n",
        "    self.tau_ac = Tau_ac # Permissible Shear Stress (core)\n",
        "    self.Cost = Cost\n",
        "\n",
        "  def __str__(self):\n",
        "    return \"CoreMaterial: Density{} kg/m^3; Ec={} Pa; Gc={} Pa; Tau={} Pa; Cost={} euro/kg\".format(self.Density, self.Ec, self.Gc, self.tau_ac, self.Cost)\n",
        "\n",
        "  def __repr__(self):\n",
        "    return str(self)"
      ],
      "execution_count": 0,
      "outputs": []
    },
    {
      "cell_type": "markdown",
      "metadata": {
        "id": "vLkUoivicilM",
        "colab_type": "text"
      },
      "source": [
        "Acum putem pune parametrii de material:"
      ]
    },
    {
      "cell_type": "code",
      "metadata": {
        "id": "rHYGkVtfcnEJ",
        "colab_type": "code",
        "colab": {
          "base_uri": "https://localhost:8080/",
          "height": 156
        },
        "outputId": "57863303-8252-4838-a9fd-c3adcf33f4ff"
      },
      "source": [
        "shell_materials = {\n",
        "    ShellMaterials.Steel: ShellMaterialParameters(7800, 205000 * 1e6, 300 * 1e6, 0.4),\n",
        "    ShellMaterials.Aluminium: ShellMaterialParameters(2700, 70000 * 1e6, 200 * 1e6, 0.7),\n",
        "    ShellMaterials.GFRP: ShellMaterialParameters(1600, 20000 * 1e6, 400 * 1e6, 4),\n",
        "    ShellMaterials.CFRP: ShellMaterialParameters(2700, 70000 * 1e6, 1000 * 1e6, 80)\n",
        "    }\n",
        "\n",
        "core_materials = {\n",
        "    CoreMaterials.DivinycellH60: CoreMaterialParameters(60, 550 * 1e6, 22 * 1e6, 0.6 * 1e6, 6),\n",
        "    CoreMaterials.DivinycellH100: CoreMaterialParameters(100, 95 * 1e6, 38 * 1e6, 1.2 * 1e6, 10),\n",
        "    CoreMaterials.DivinycellH130: CoreMaterialParameters(130, 125 * 1e6, 47 * 1e6, 1.6 * 1e6, 13),\n",
        "    CoreMaterials.DivinycellH200: CoreMaterialParameters(200, 195 * 1e6, 75 * 1e6, 3.0 * 1e6, 20),\n",
        "    }\n",
        "\n",
        "for mat in shell_materials.items():\n",
        "  print(mat)\n",
        "\n",
        "for mat in core_materials.items():\n",
        "  print(mat)"
      ],
      "execution_count": 96,
      "outputs": [
        {
          "output_type": "stream",
          "text": [
            "(<ShellMaterials.Steel: 1>, ShellMaterial: Density=7800 kg/m^3; E=205000000000.0 Pa; Tau=300000000.0 Pa; Cost=0.4 euro/kg)\n",
            "(<ShellMaterials.Aluminium: 2>, ShellMaterial: Density=2700 kg/m^3; E=70000000000.0 Pa; Tau=200000000.0 Pa; Cost=0.7 euro/kg)\n",
            "(<ShellMaterials.GFRP: 3>, ShellMaterial: Density=1600 kg/m^3; E=20000000000.0 Pa; Tau=400000000.0 Pa; Cost=4 euro/kg)\n",
            "(<ShellMaterials.CFRP: 4>, ShellMaterial: Density=2700 kg/m^3; E=70000000000.0 Pa; Tau=1000000000.0 Pa; Cost=80 euro/kg)\n",
            "(<CoreMaterials.DivinycellH60: 1>, CoreMaterial: Density60 kg/m^3; Ec=550000000.0 Pa; Gc=22000000.0 Pa; Tau=600000.0 Pa; Cost=6 euro/kg)\n",
            "(<CoreMaterials.DivinycellH100: 2>, CoreMaterial: Density100 kg/m^3; Ec=95000000.0 Pa; Gc=38000000.0 Pa; Tau=1200000.0 Pa; Cost=10 euro/kg)\n",
            "(<CoreMaterials.DivinycellH130: 3>, CoreMaterial: Density130 kg/m^3; Ec=125000000.0 Pa; Gc=47000000.0 Pa; Tau=1600000.0 Pa; Cost=13 euro/kg)\n",
            "(<CoreMaterials.DivinycellH200: 4>, CoreMaterial: Density200 kg/m^3; Ec=195000000.0 Pa; Gc=75000000.0 Pa; Tau=3000000.0 Pa; Cost=20 euro/kg)\n"
          ],
          "name": "stdout"
        }
      ]
    },
    {
      "cell_type": "markdown",
      "metadata": {
        "id": "b10owa2xd1KA",
        "colab_type": "text"
      },
      "source": [
        "Putem să vedem deja costul materialului per densitate; vom considera 1 metru cub pentru fiecare material."
      ]
    },
    {
      "cell_type": "code",
      "metadata": {
        "id": "Vm0LTfOTd71-",
        "colab_type": "code",
        "colab": {
          "base_uri": "https://localhost:8080/",
          "height": 542
        },
        "outputId": "7ded8552-0dc1-4cee-a2d6-3fca46017faf"
      },
      "source": [
        "from plotly.subplots import make_subplots\n",
        "import plotly.graph_objects as go\n",
        "\n",
        "materials_core = []\n",
        "costs_core = []\n",
        "for mat in core_materials.items():\n",
        "  materials_core.append(mat[0].name)\n",
        "  costs_core.append(mat[1].Cost * mat[1].Density)\n",
        "\n",
        "materials_shell = []\n",
        "costs_shell = []\n",
        "for mat in shell_materials.items():\n",
        "  materials_shell.append(mat[0].name)\n",
        "  costs_shell.append(mat[1].Cost * mat[1].Density)\n",
        "\n",
        "fig = make_subplots(rows=1, cols=2, subplot_titles=(\"Core Materials (cost per m^3)\", \"Shell Materials (cost per m^3)\"))\n",
        "\n",
        "fig.add_trace(go.Bar(x=materials_core, y=costs_core), row=1, col=1)\n",
        "fig.add_trace(go.Bar(x=materials_shell, y=costs_shell), row=1, col=2)\n",
        "fig.update_yaxes(row=1, col=1, ticksuffix='€')\n",
        "fig.update_yaxes(row=1, col=2, ticksuffix='€')\n",
        "fig.update_layout(coloraxis=dict(colorscale='Bluered_r'), showlegend=False)\n",
        "fig.show()"
      ],
      "execution_count": 97,
      "outputs": [
        {
          "output_type": "display_data",
          "data": {
            "text/html": [
              "<html>\n",
              "<head><meta charset=\"utf-8\" /></head>\n",
              "<body>\n",
              "    <div>\n",
              "            <script src=\"https://cdnjs.cloudflare.com/ajax/libs/mathjax/2.7.5/MathJax.js?config=TeX-AMS-MML_SVG\"></script><script type=\"text/javascript\">if (window.MathJax) {MathJax.Hub.Config({SVG: {font: \"STIX-Web\"}});}</script>\n",
              "                <script type=\"text/javascript\">window.PlotlyConfig = {MathJaxConfig: 'local'};</script>\n",
              "        <script src=\"https://cdn.plot.ly/plotly-latest.min.js\"></script>    \n",
              "            <div id=\"a8d5fdf0-acb7-44b4-b1b0-58f65fc41382\" class=\"plotly-graph-div\" style=\"height:525px; width:100%;\"></div>\n",
              "            <script type=\"text/javascript\">\n",
              "                \n",
              "                    window.PLOTLYENV=window.PLOTLYENV || {};\n",
              "                    \n",
              "                if (document.getElementById(\"a8d5fdf0-acb7-44b4-b1b0-58f65fc41382\")) {\n",
              "                    Plotly.newPlot(\n",
              "                        'a8d5fdf0-acb7-44b4-b1b0-58f65fc41382',\n",
              "                        [{\"type\": \"bar\", \"x\": [\"DivinycellH60\", \"DivinycellH100\", \"DivinycellH130\", \"DivinycellH200\"], \"xaxis\": \"x\", \"y\": [360, 1000, 1690, 4000], \"yaxis\": \"y\"}, {\"type\": \"bar\", \"x\": [\"Steel\", \"Aluminium\", \"GFRP\", \"CFRP\"], \"xaxis\": \"x2\", \"y\": [3120.0, 1889.9999999999998, 6400, 216000], \"yaxis\": \"y2\"}],\n",
              "                        {\"annotations\": [{\"font\": {\"size\": 16}, \"showarrow\": false, \"text\": \"Core Materials (cost per m^3)\", \"x\": 0.225, \"xanchor\": \"center\", \"xref\": \"paper\", \"y\": 1.0, \"yanchor\": \"bottom\", \"yref\": \"paper\"}, {\"font\": {\"size\": 16}, \"showarrow\": false, \"text\": \"Shell Materials (cost per m^3)\", \"x\": 0.775, \"xanchor\": \"center\", \"xref\": \"paper\", \"y\": 1.0, \"yanchor\": \"bottom\", \"yref\": \"paper\"}], \"coloraxis\": {\"colorscale\": [[0.0, \"rgb(255,0,0)\"], [1.0, \"rgb(0,0,255)\"]]}, \"showlegend\": false, \"template\": {\"data\": {\"bar\": [{\"error_x\": {\"color\": \"#2a3f5f\"}, \"error_y\": {\"color\": \"#2a3f5f\"}, \"marker\": {\"line\": {\"color\": \"#E5ECF6\", \"width\": 0.5}}, \"type\": \"bar\"}], \"barpolar\": [{\"marker\": {\"line\": {\"color\": \"#E5ECF6\", \"width\": 0.5}}, \"type\": \"barpolar\"}], \"carpet\": [{\"aaxis\": {\"endlinecolor\": \"#2a3f5f\", \"gridcolor\": \"white\", \"linecolor\": \"white\", \"minorgridcolor\": \"white\", \"startlinecolor\": \"#2a3f5f\"}, \"baxis\": {\"endlinecolor\": \"#2a3f5f\", \"gridcolor\": \"white\", \"linecolor\": \"white\", \"minorgridcolor\": \"white\", \"startlinecolor\": \"#2a3f5f\"}, \"type\": \"carpet\"}], \"choropleth\": [{\"colorbar\": {\"outlinewidth\": 0, \"ticks\": \"\"}, \"type\": \"choropleth\"}], \"contour\": [{\"colorbar\": {\"outlinewidth\": 0, \"ticks\": \"\"}, \"colorscale\": [[0.0, \"#0d0887\"], [0.1111111111111111, \"#46039f\"], [0.2222222222222222, \"#7201a8\"], [0.3333333333333333, \"#9c179e\"], [0.4444444444444444, \"#bd3786\"], [0.5555555555555556, \"#d8576b\"], [0.6666666666666666, \"#ed7953\"], [0.7777777777777778, \"#fb9f3a\"], [0.8888888888888888, \"#fdca26\"], [1.0, \"#f0f921\"]], \"type\": \"contour\"}], \"contourcarpet\": [{\"colorbar\": {\"outlinewidth\": 0, \"ticks\": \"\"}, \"type\": \"contourcarpet\"}], \"heatmap\": [{\"colorbar\": {\"outlinewidth\": 0, \"ticks\": \"\"}, \"colorscale\": [[0.0, \"#0d0887\"], [0.1111111111111111, \"#46039f\"], [0.2222222222222222, \"#7201a8\"], [0.3333333333333333, \"#9c179e\"], [0.4444444444444444, \"#bd3786\"], [0.5555555555555556, \"#d8576b\"], [0.6666666666666666, \"#ed7953\"], [0.7777777777777778, \"#fb9f3a\"], [0.8888888888888888, \"#fdca26\"], [1.0, \"#f0f921\"]], \"type\": \"heatmap\"}], \"heatmapgl\": [{\"colorbar\": {\"outlinewidth\": 0, \"ticks\": \"\"}, \"colorscale\": [[0.0, \"#0d0887\"], [0.1111111111111111, \"#46039f\"], [0.2222222222222222, \"#7201a8\"], [0.3333333333333333, \"#9c179e\"], [0.4444444444444444, \"#bd3786\"], [0.5555555555555556, \"#d8576b\"], [0.6666666666666666, \"#ed7953\"], [0.7777777777777778, \"#fb9f3a\"], [0.8888888888888888, \"#fdca26\"], [1.0, \"#f0f921\"]], \"type\": \"heatmapgl\"}], \"histogram\": [{\"marker\": {\"colorbar\": {\"outlinewidth\": 0, \"ticks\": \"\"}}, \"type\": \"histogram\"}], \"histogram2d\": [{\"colorbar\": {\"outlinewidth\": 0, \"ticks\": \"\"}, \"colorscale\": [[0.0, \"#0d0887\"], [0.1111111111111111, \"#46039f\"], [0.2222222222222222, \"#7201a8\"], [0.3333333333333333, \"#9c179e\"], [0.4444444444444444, \"#bd3786\"], [0.5555555555555556, \"#d8576b\"], [0.6666666666666666, \"#ed7953\"], [0.7777777777777778, \"#fb9f3a\"], [0.8888888888888888, \"#fdca26\"], [1.0, \"#f0f921\"]], \"type\": \"histogram2d\"}], \"histogram2dcontour\": [{\"colorbar\": {\"outlinewidth\": 0, \"ticks\": \"\"}, \"colorscale\": [[0.0, \"#0d0887\"], [0.1111111111111111, \"#46039f\"], [0.2222222222222222, \"#7201a8\"], [0.3333333333333333, \"#9c179e\"], [0.4444444444444444, \"#bd3786\"], [0.5555555555555556, \"#d8576b\"], [0.6666666666666666, \"#ed7953\"], [0.7777777777777778, \"#fb9f3a\"], [0.8888888888888888, \"#fdca26\"], [1.0, \"#f0f921\"]], \"type\": \"histogram2dcontour\"}], \"mesh3d\": [{\"colorbar\": {\"outlinewidth\": 0, \"ticks\": \"\"}, \"type\": \"mesh3d\"}], \"parcoords\": [{\"line\": {\"colorbar\": {\"outlinewidth\": 0, \"ticks\": \"\"}}, \"type\": \"parcoords\"}], \"pie\": [{\"automargin\": true, \"type\": \"pie\"}], \"scatter\": [{\"marker\": {\"colorbar\": {\"outlinewidth\": 0, \"ticks\": \"\"}}, \"type\": \"scatter\"}], \"scatter3d\": [{\"line\": {\"colorbar\": {\"outlinewidth\": 0, \"ticks\": \"\"}}, \"marker\": {\"colorbar\": {\"outlinewidth\": 0, \"ticks\": \"\"}}, \"type\": \"scatter3d\"}], \"scattercarpet\": [{\"marker\": {\"colorbar\": {\"outlinewidth\": 0, \"ticks\": \"\"}}, \"type\": \"scattercarpet\"}], \"scattergeo\": [{\"marker\": {\"colorbar\": {\"outlinewidth\": 0, \"ticks\": \"\"}}, \"type\": \"scattergeo\"}], \"scattergl\": [{\"marker\": {\"colorbar\": {\"outlinewidth\": 0, \"ticks\": \"\"}}, \"type\": \"scattergl\"}], \"scattermapbox\": [{\"marker\": {\"colorbar\": {\"outlinewidth\": 0, \"ticks\": \"\"}}, \"type\": \"scattermapbox\"}], \"scatterpolar\": [{\"marker\": {\"colorbar\": {\"outlinewidth\": 0, \"ticks\": \"\"}}, \"type\": \"scatterpolar\"}], \"scatterpolargl\": [{\"marker\": {\"colorbar\": {\"outlinewidth\": 0, \"ticks\": \"\"}}, \"type\": \"scatterpolargl\"}], \"scatterternary\": [{\"marker\": {\"colorbar\": {\"outlinewidth\": 0, \"ticks\": \"\"}}, \"type\": \"scatterternary\"}], \"surface\": [{\"colorbar\": {\"outlinewidth\": 0, \"ticks\": \"\"}, \"colorscale\": [[0.0, \"#0d0887\"], [0.1111111111111111, \"#46039f\"], [0.2222222222222222, \"#7201a8\"], [0.3333333333333333, \"#9c179e\"], [0.4444444444444444, \"#bd3786\"], [0.5555555555555556, \"#d8576b\"], [0.6666666666666666, \"#ed7953\"], [0.7777777777777778, \"#fb9f3a\"], [0.8888888888888888, \"#fdca26\"], [1.0, \"#f0f921\"]], \"type\": \"surface\"}], \"table\": [{\"cells\": {\"fill\": {\"color\": \"#EBF0F8\"}, \"line\": {\"color\": \"white\"}}, \"header\": {\"fill\": {\"color\": \"#C8D4E3\"}, \"line\": {\"color\": \"white\"}}, \"type\": \"table\"}]}, \"layout\": {\"annotationdefaults\": {\"arrowcolor\": \"#2a3f5f\", \"arrowhead\": 0, \"arrowwidth\": 1}, \"coloraxis\": {\"colorbar\": {\"outlinewidth\": 0, \"ticks\": \"\"}}, \"colorscale\": {\"diverging\": [[0, \"#8e0152\"], [0.1, \"#c51b7d\"], [0.2, \"#de77ae\"], [0.3, \"#f1b6da\"], [0.4, \"#fde0ef\"], [0.5, \"#f7f7f7\"], [0.6, \"#e6f5d0\"], [0.7, \"#b8e186\"], [0.8, \"#7fbc41\"], [0.9, \"#4d9221\"], [1, \"#276419\"]], \"sequential\": [[0.0, \"#0d0887\"], [0.1111111111111111, \"#46039f\"], [0.2222222222222222, \"#7201a8\"], [0.3333333333333333, \"#9c179e\"], [0.4444444444444444, \"#bd3786\"], [0.5555555555555556, \"#d8576b\"], [0.6666666666666666, \"#ed7953\"], [0.7777777777777778, \"#fb9f3a\"], [0.8888888888888888, \"#fdca26\"], [1.0, \"#f0f921\"]], \"sequentialminus\": [[0.0, \"#0d0887\"], [0.1111111111111111, \"#46039f\"], [0.2222222222222222, \"#7201a8\"], [0.3333333333333333, \"#9c179e\"], [0.4444444444444444, \"#bd3786\"], [0.5555555555555556, \"#d8576b\"], [0.6666666666666666, \"#ed7953\"], [0.7777777777777778, \"#fb9f3a\"], [0.8888888888888888, \"#fdca26\"], [1.0, \"#f0f921\"]]}, \"colorway\": [\"#636efa\", \"#EF553B\", \"#00cc96\", \"#ab63fa\", \"#FFA15A\", \"#19d3f3\", \"#FF6692\", \"#B6E880\", \"#FF97FF\", \"#FECB52\"], \"font\": {\"color\": \"#2a3f5f\"}, \"geo\": {\"bgcolor\": \"white\", \"lakecolor\": \"white\", \"landcolor\": \"#E5ECF6\", \"showlakes\": true, \"showland\": true, \"subunitcolor\": \"white\"}, \"hoverlabel\": {\"align\": \"left\"}, \"hovermode\": \"closest\", \"mapbox\": {\"style\": \"light\"}, \"paper_bgcolor\": \"white\", \"plot_bgcolor\": \"#E5ECF6\", \"polar\": {\"angularaxis\": {\"gridcolor\": \"white\", \"linecolor\": \"white\", \"ticks\": \"\"}, \"bgcolor\": \"#E5ECF6\", \"radialaxis\": {\"gridcolor\": \"white\", \"linecolor\": \"white\", \"ticks\": \"\"}}, \"scene\": {\"xaxis\": {\"backgroundcolor\": \"#E5ECF6\", \"gridcolor\": \"white\", \"gridwidth\": 2, \"linecolor\": \"white\", \"showbackground\": true, \"ticks\": \"\", \"zerolinecolor\": \"white\"}, \"yaxis\": {\"backgroundcolor\": \"#E5ECF6\", \"gridcolor\": \"white\", \"gridwidth\": 2, \"linecolor\": \"white\", \"showbackground\": true, \"ticks\": \"\", \"zerolinecolor\": \"white\"}, \"zaxis\": {\"backgroundcolor\": \"#E5ECF6\", \"gridcolor\": \"white\", \"gridwidth\": 2, \"linecolor\": \"white\", \"showbackground\": true, \"ticks\": \"\", \"zerolinecolor\": \"white\"}}, \"shapedefaults\": {\"line\": {\"color\": \"#2a3f5f\"}}, \"ternary\": {\"aaxis\": {\"gridcolor\": \"white\", \"linecolor\": \"white\", \"ticks\": \"\"}, \"baxis\": {\"gridcolor\": \"white\", \"linecolor\": \"white\", \"ticks\": \"\"}, \"bgcolor\": \"#E5ECF6\", \"caxis\": {\"gridcolor\": \"white\", \"linecolor\": \"white\", \"ticks\": \"\"}}, \"title\": {\"x\": 0.05}, \"xaxis\": {\"automargin\": true, \"gridcolor\": \"white\", \"linecolor\": \"white\", \"ticks\": \"\", \"title\": {\"standoff\": 15}, \"zerolinecolor\": \"white\", \"zerolinewidth\": 2}, \"yaxis\": {\"automargin\": true, \"gridcolor\": \"white\", \"linecolor\": \"white\", \"ticks\": \"\", \"title\": {\"standoff\": 15}, \"zerolinecolor\": \"white\", \"zerolinewidth\": 2}}}, \"xaxis\": {\"anchor\": \"y\", \"domain\": [0.0, 0.45]}, \"xaxis2\": {\"anchor\": \"y2\", \"domain\": [0.55, 1.0]}, \"yaxis\": {\"anchor\": \"x\", \"domain\": [0.0, 1.0], \"ticksuffix\": \"\\u20ac\"}, \"yaxis2\": {\"anchor\": \"x2\", \"domain\": [0.0, 1.0], \"ticksuffix\": \"\\u20ac\"}},\n",
              "                        {\"responsive\": true}\n",
              "                    ).then(function(){\n",
              "                            \n",
              "var gd = document.getElementById('a8d5fdf0-acb7-44b4-b1b0-58f65fc41382');\n",
              "var x = new MutationObserver(function (mutations, observer) {{\n",
              "        var display = window.getComputedStyle(gd).display;\n",
              "        if (!display || display === 'none') {{\n",
              "            console.log([gd, 'removed!']);\n",
              "            Plotly.purge(gd);\n",
              "            observer.disconnect();\n",
              "        }}\n",
              "}});\n",
              "\n",
              "// Listen for the removal of the full notebook cells\n",
              "var notebookContainer = gd.closest('#notebook-container');\n",
              "if (notebookContainer) {{\n",
              "    x.observe(notebookContainer, {childList: true});\n",
              "}}\n",
              "\n",
              "// Listen for the clearing of the current output cell\n",
              "var outputEl = gd.closest('.output');\n",
              "if (outputEl) {{\n",
              "    x.observe(outputEl, {childList: true});\n",
              "}}\n",
              "\n",
              "                        })\n",
              "                };\n",
              "                \n",
              "            </script>\n",
              "        </div>\n",
              "</body>\n",
              "</html>"
            ]
          },
          "metadata": {
            "tags": []
          }
        }
      ]
    },
    {
      "cell_type": "markdown",
      "metadata": {
        "id": "0F0CmnJemOJL",
        "colab_type": "text"
      },
      "source": [
        "Acum vom defini parametrii pentru geometria unei bârne Euler. Pentru ea vom implementa și formulele pentru:\n",
        "- Sheer Stiffness: $S = \\frac{Gc \\cdot d^2}{tc}$\n",
        "- Bending Stiffness: $D = \\frac{E \\cdot t_f}{d^2}$\n",
        "\n",
        "Adăugăm metode pentru a putea calcula ușor volumele, masele și costurile componentelor dintr-un beam."
      ]
    },
    {
      "cell_type": "code",
      "metadata": {
        "id": "WLVxObcsmX6Q",
        "colab_type": "code",
        "colab": {}
      },
      "source": [
        "class EulerBeamGeometry:\n",
        "\n",
        "  def __init__(self, tf, tc, L, b, shellMat, coreMat):\n",
        "    self.tf = tf # shell height\n",
        "    self.tc = tc # core height\n",
        "    self.L = L # Length\n",
        "    self.b = b # width\n",
        "    self.ShellMaterial = shellMat\n",
        "    self.CoreMaterial = coreMat\n",
        "\n",
        "  # Total Height\n",
        "  def d(self):\n",
        "    return self.tf + self.tc\n",
        "\n",
        "  # Total bending stiffness - rigiditatea la forfecare\n",
        "  def S(self):\n",
        "    return (self.CoreMaterial.Gc * self.d()**2) / self.tc\n",
        "\n",
        "  # Total sheer stiffness - rigiditatea la incovoiere\n",
        "  def D(self):\n",
        "      # return (self.ShellMaterial.E * self.tf * self.d()**2) / 2\n",
        "      return self.Df() + self.Do() + self.Dc()\n",
        "\n",
        "  # Rigiditatea la incovoiere a invelisurilor  \n",
        "  def Df(self):\n",
        "    return 2 * self.ShellMaterial.E * self.tf**3 / 12\n",
        "\n",
        "  # Rigiditatea la incovoiere a miezului\n",
        "  def Dc(self):\n",
        "    return self.CoreMaterial.Ec * self.tc**3 / 12\n",
        "\n",
        "  # Contributia la rigiditate a teoremei lui Steiner\n",
        "  def Do(self):\n",
        "    return self.ShellMaterial.E * self.tf * self.d()**2 / 2\n",
        "\n",
        "  def ShellVolume(self):\n",
        "    return self.tf * self.L * self.b\n",
        "  \n",
        "  def CoreVolume(self):\n",
        "    return self.tc * self.L * self.b\n",
        "\n",
        "  def TotalVolume(self):\n",
        "    return self.ShellVolume() + self.CoreVolume()\n",
        "\n",
        "  def ShellMass(self):\n",
        "    return self.CoreVolume() * self.CoreMaterial.Density\n",
        "\n",
        "  def CoreMass(self):\n",
        "    return self.ShellVolume() * self.ShellMaterial.Density\n",
        "\n",
        "  def TotalMass(self):\n",
        "    return self.ShellMass() + self.CoreMass()\n",
        "\n",
        "  def ShellCost(self):\n",
        "    return self.ShellMass() * self.ShellMaterial.Cost\n",
        "\n",
        "  def CoreCost(self):\n",
        "    return self.CoreMass() * self.CoreMaterial.Cost\n",
        "\n",
        "  def TotalCost(self):\n",
        "    return self.ShellCost() + self.CoreCost()"
      ],
      "execution_count": 0,
      "outputs": []
    },
    {
      "cell_type": "markdown",
      "metadata": {
        "id": "Gcz8HHDQrn1U",
        "colab_type": "text"
      },
      "source": [
        "În continuare definim partea de simulare. Pentru grinda definită anterior avem nevoie de a simula o forță în partea liberă pentru care trebuie să calculăm:\n",
        "- Tensiunile în miez (Core Sheer Stress): $\\sigma_c = \\frac{M}{D}E_c \\cdot z$\n",
        "- Tensiunile în înveliș (Shell Core Stress): $\\sigma_f = \\frac{M}{D}E_f \\cdot z$\n",
        "- Forța aplicată din masa impusă;\n",
        "- Momentul maxim din grindă;\n",
        "- Deplasarea la capătul liber;\n",
        "- Deplasarea maximă din rigiditatea impusă.\n",
        "\n",
        "Notă: $z$ va fi la noi forța aplicată asupra grinzii.\n",
        "\n",
        "Pentru deformația maximă din grindă aplicăm formulele:\n",
        "\n",
        "$ W = \\frac{F \\cdot L^3}{3 D} + \\frac{F \\cdot L}{S} $  \n",
        "$ D = \\frac{1}{2}E_f \\cdot t_f \\cdot d^2 $  \n",
        "$ S = \\frac{1}{t_c} G_c \\cdot d^2 $"
      ]
    },
    {
      "cell_type": "code",
      "metadata": {
        "id": "_PfYbETVscIj",
        "colab_type": "code",
        "colab": {}
      },
      "source": [
        "class EulerBeamSimulation:\n",
        "  def __init__(self, mass, acceleration, maximum_stiffness, geometry, safetyFactor):\n",
        "    self.AppliedMass = mass\n",
        "    self.AppliedAcceleration = acceleration\n",
        "    self.MaximumStiffness = maximum_stiffness\n",
        "    self.Geometry = geometry\n",
        "    self.SafetyFactor = safetyFactor\n",
        "\n",
        "  def AppliedForce(self):\n",
        "    return self.AppliedMass * self.AppliedAcceleration\n",
        "\n",
        "  def MaximumDisplacement(self):\n",
        "    return self.AppliedForce() / self.MaximumStiffness\n",
        "\n",
        "  # Deformatia la incovoiere\n",
        "  def Wb(self):\n",
        "    return (2 * self.AppliedForce() * self.Geometry.L**3)/(3 * self.Geometry.ShellMaterial.E * self.Geometry.tf * self.Geometry.d()**2)\n",
        "\n",
        "  # Deformatia la forfecare\n",
        "  def Ws(self):\n",
        "    return (self.AppliedForce() * self.Geometry.L) / self.Geometry.S()\n",
        "\n",
        "  def W(self):\n",
        "    return self.Wb() + self.Ws()\n",
        "\n",
        "  def ActualDisplacement(self):\n",
        "    return (self.AppliedForce()*self.Geometry.L**3) / (3*self.Geometry.Do()) + self.AppliedForce()*self.Geometry.L/self.Geometry.S()\n",
        "\n",
        "  # Maximum Moment on beam\n",
        "  def M(self):\n",
        "    return self.AppliedForce() * self.Geometry.L\n",
        "\n",
        "  def CoreSheerStress(self):\n",
        "    return (self.M() / self.Geometry.D()) * self.Geometry.CoreMaterial.Ec * self.AppliedForce()\n",
        "\n",
        "  def ShellSheerStress(self):\n",
        "    return (self.M() / self.Geometry.D()) * self.Geometry.ShellMaterial.E * self.AppliedForce()"
      ],
      "execution_count": 0,
      "outputs": []
    },
    {
      "cell_type": "markdown",
      "metadata": {
        "id": "ZsS8g8ymBGGc",
        "colab_type": "text"
      },
      "source": [
        "Acum avem tot ce ne trebuie să putem simula cazul unei singure grinzi. Dar pe noi ne ineteresează explorarea mai multe grinzi prin urmare vom avea nevoie de definirea unui spațiu de căutare unde putem parametriza ce ne interesează and rula o serie de simulări. Am vrea să definim cum pot varia dimensiunile geometrice dar și materialele.\n",
        "\n",
        "Până atunci însă vom alege niște parametri oarecare (dar cu sens) și vedem ce se întâmplă și ce rezultate avem."
      ]
    },
    {
      "cell_type": "code",
      "metadata": {
        "id": "nubSp8hiCHSL",
        "colab_type": "code",
        "colab": {
          "base_uri": "https://localhost:8080/",
          "height": 577
        },
        "outputId": "735eeb6d-d26e-40c5-8c15-e34b9caabcd4"
      },
      "source": [
        "# Attention here: we need to define all parameters in MKS to keep consitency with the rest of the document\n",
        "\n",
        "tf = 2*1e-3   # shell of 1 mm\n",
        "tc = 70*1e-3  # core of 7 cmm\n",
        "L = 4         # can vary between 1 and 4 meters; let's go with 4 for now\n",
        "b = 500*1e-3  # this is hardcoded and will remain at 500mm\n",
        "\n",
        "# For materials let's go with the cheapest ones per m^3 as plotted above\n",
        "shellMat = shell_materials[ShellMaterials.Steel]\n",
        "coreMat = core_materials[CoreMaterials.DivinycellH60]\n",
        "\n",
        "# We have all we need, let's create the sandwich beam geometry\n",
        "sample_geometry = EulerBeamGeometry(tf, tc, L, b, shellMat, coreMat)\n",
        "\n",
        "# We move on to the simulation parameters\n",
        "mass = 150                # kg - this is fixed\n",
        "acceleration = 9.834      # m/s^2 - we would need to have higher accelerations to account for jumps\n",
        "maximum_stiffness = 5000  # N/m - fixed\n",
        "safetyFactor = 5          # if too expensive, make this smaller :-)\n",
        "\n",
        "sample_simulation = EulerBeamSimulation(mass, acceleration, maximum_stiffness, sample_geometry, safetyFactor)\n",
        "\n",
        "labels = []\n",
        "values = []\n",
        "\n",
        "labels.append(\"Displacement\")\n",
        "values.append(\"{:.2f} m\".format(sample_simulation.Ws()))\n",
        "\n",
        "labels.append(\"Max Displacement\")\n",
        "values.append(\"{:.2f} m\".format(sample_simulation.MaximumDisplacement()))\n",
        "\n",
        "labels.append(\"Core Stress\")\n",
        "values.append(\"{:.2f} MPa\".format(sample_simulation.CoreSheerStress() * 1e-6))\n",
        "\n",
        "labels.append(\"Max Core Stress\")\n",
        "values.append(\"{:.2f} MPa\".format((sample_simulation.Geometry.CoreMaterial.tau_ac / sample_simulation.SafetyFactor) * 1e-6))\n",
        "\n",
        "labels.append(\"Shell Stress\")\n",
        "values.append(\"{:.2f} MPa\".format(sample_simulation.ShellSheerStress() * 1e-6))\n",
        "\n",
        "labels.append(\"Max Shell Stress\")\n",
        "values.append(\"{:.2f} MPa\".format((sample_simulation.Geometry.ShellMaterial.tau_af / sample_simulation.SafetyFactor) * 1e-6))\n",
        "\n",
        "labels.append(\"Mass\")\n",
        "values.append(\"{:.2f} kg\".format(sample_simulation.Geometry.TotalMass()))\n",
        "\n",
        "labels.append(\"Cost\")\n",
        "values.append(\"{:.2f} €\".format(sample_simulation.Geometry.TotalCost()))\n",
        "\n",
        "fig = go.Figure(data=[go.Table(header=dict(values=labels), cells=dict(values=values))])\n",
        "fig.show()\n",
        "\n",
        "print(\"{} > 4.77\".format(tc/tf))\n",
        "Ef = sample_simulation.Geometry.ShellMaterial.E\n",
        "d = sample_simulation.Geometry.d()\n",
        "Ec = sample_simulation.Geometry.CoreMaterial.Ec\n",
        "print(\"{} > 100\".format((6*Ef*tf*d**2)/(Ec*tc**3)))"
      ],
      "execution_count": 100,
      "outputs": [
        {
          "output_type": "display_data",
          "data": {
            "text/html": [
              "<html>\n",
              "<head><meta charset=\"utf-8\" /></head>\n",
              "<body>\n",
              "    <div>\n",
              "            <script src=\"https://cdnjs.cloudflare.com/ajax/libs/mathjax/2.7.5/MathJax.js?config=TeX-AMS-MML_SVG\"></script><script type=\"text/javascript\">if (window.MathJax) {MathJax.Hub.Config({SVG: {font: \"STIX-Web\"}});}</script>\n",
              "                <script type=\"text/javascript\">window.PlotlyConfig = {MathJaxConfig: 'local'};</script>\n",
              "        <script src=\"https://cdn.plot.ly/plotly-latest.min.js\"></script>    \n",
              "            <div id=\"9d0f150d-7fab-4eb3-810d-8760f263b3e8\" class=\"plotly-graph-div\" style=\"height:525px; width:100%;\"></div>\n",
              "            <script type=\"text/javascript\">\n",
              "                \n",
              "                    window.PLOTLYENV=window.PLOTLYENV || {};\n",
              "                    \n",
              "                if (document.getElementById(\"9d0f150d-7fab-4eb3-810d-8760f263b3e8\")) {\n",
              "                    Plotly.newPlot(\n",
              "                        '9d0f150d-7fab-4eb3-810d-8760f263b3e8',\n",
              "                        [{\"cells\": {\"values\": [\"0.00 m\", \"0.30 m\", \"4437.71 MPa\", \"0.12 MPa\", \"1654056.71 MPa\", \"60.00 MPa\", \"39.60 kg\", \"190.56 \\u20ac\"]}, \"header\": {\"values\": [\"Displacement\", \"Max Displacement\", \"Core Stress\", \"Max Core Stress\", \"Shell Stress\", \"Max Shell Stress\", \"Mass\", \"Cost\"]}, \"type\": \"table\"}],\n",
              "                        {\"template\": {\"data\": {\"bar\": [{\"error_x\": {\"color\": \"#2a3f5f\"}, \"error_y\": {\"color\": \"#2a3f5f\"}, \"marker\": {\"line\": {\"color\": \"#E5ECF6\", \"width\": 0.5}}, \"type\": \"bar\"}], \"barpolar\": [{\"marker\": {\"line\": {\"color\": \"#E5ECF6\", \"width\": 0.5}}, \"type\": \"barpolar\"}], \"carpet\": [{\"aaxis\": {\"endlinecolor\": \"#2a3f5f\", \"gridcolor\": \"white\", \"linecolor\": \"white\", \"minorgridcolor\": \"white\", \"startlinecolor\": \"#2a3f5f\"}, \"baxis\": {\"endlinecolor\": \"#2a3f5f\", \"gridcolor\": \"white\", \"linecolor\": \"white\", \"minorgridcolor\": \"white\", \"startlinecolor\": \"#2a3f5f\"}, \"type\": \"carpet\"}], \"choropleth\": [{\"colorbar\": {\"outlinewidth\": 0, \"ticks\": \"\"}, \"type\": \"choropleth\"}], \"contour\": [{\"colorbar\": {\"outlinewidth\": 0, \"ticks\": \"\"}, \"colorscale\": [[0.0, \"#0d0887\"], [0.1111111111111111, \"#46039f\"], [0.2222222222222222, \"#7201a8\"], [0.3333333333333333, \"#9c179e\"], [0.4444444444444444, \"#bd3786\"], [0.5555555555555556, \"#d8576b\"], [0.6666666666666666, \"#ed7953\"], [0.7777777777777778, \"#fb9f3a\"], [0.8888888888888888, \"#fdca26\"], [1.0, \"#f0f921\"]], \"type\": \"contour\"}], \"contourcarpet\": [{\"colorbar\": {\"outlinewidth\": 0, \"ticks\": \"\"}, \"type\": \"contourcarpet\"}], \"heatmap\": [{\"colorbar\": {\"outlinewidth\": 0, \"ticks\": \"\"}, \"colorscale\": [[0.0, \"#0d0887\"], [0.1111111111111111, \"#46039f\"], [0.2222222222222222, \"#7201a8\"], [0.3333333333333333, \"#9c179e\"], [0.4444444444444444, \"#bd3786\"], [0.5555555555555556, \"#d8576b\"], [0.6666666666666666, \"#ed7953\"], [0.7777777777777778, \"#fb9f3a\"], [0.8888888888888888, \"#fdca26\"], [1.0, \"#f0f921\"]], \"type\": \"heatmap\"}], \"heatmapgl\": [{\"colorbar\": {\"outlinewidth\": 0, \"ticks\": \"\"}, \"colorscale\": [[0.0, \"#0d0887\"], [0.1111111111111111, \"#46039f\"], [0.2222222222222222, \"#7201a8\"], [0.3333333333333333, \"#9c179e\"], [0.4444444444444444, \"#bd3786\"], [0.5555555555555556, \"#d8576b\"], [0.6666666666666666, \"#ed7953\"], [0.7777777777777778, \"#fb9f3a\"], [0.8888888888888888, \"#fdca26\"], [1.0, \"#f0f921\"]], \"type\": \"heatmapgl\"}], \"histogram\": [{\"marker\": {\"colorbar\": {\"outlinewidth\": 0, \"ticks\": \"\"}}, \"type\": \"histogram\"}], \"histogram2d\": [{\"colorbar\": {\"outlinewidth\": 0, \"ticks\": \"\"}, \"colorscale\": [[0.0, \"#0d0887\"], [0.1111111111111111, \"#46039f\"], [0.2222222222222222, \"#7201a8\"], [0.3333333333333333, \"#9c179e\"], [0.4444444444444444, \"#bd3786\"], [0.5555555555555556, \"#d8576b\"], [0.6666666666666666, \"#ed7953\"], [0.7777777777777778, \"#fb9f3a\"], [0.8888888888888888, \"#fdca26\"], [1.0, \"#f0f921\"]], \"type\": \"histogram2d\"}], \"histogram2dcontour\": [{\"colorbar\": {\"outlinewidth\": 0, \"ticks\": \"\"}, \"colorscale\": [[0.0, \"#0d0887\"], [0.1111111111111111, \"#46039f\"], [0.2222222222222222, \"#7201a8\"], [0.3333333333333333, \"#9c179e\"], [0.4444444444444444, \"#bd3786\"], [0.5555555555555556, \"#d8576b\"], [0.6666666666666666, \"#ed7953\"], [0.7777777777777778, \"#fb9f3a\"], [0.8888888888888888, \"#fdca26\"], [1.0, \"#f0f921\"]], \"type\": \"histogram2dcontour\"}], \"mesh3d\": [{\"colorbar\": {\"outlinewidth\": 0, \"ticks\": \"\"}, \"type\": \"mesh3d\"}], \"parcoords\": [{\"line\": {\"colorbar\": {\"outlinewidth\": 0, \"ticks\": \"\"}}, \"type\": \"parcoords\"}], \"pie\": [{\"automargin\": true, \"type\": \"pie\"}], \"scatter\": [{\"marker\": {\"colorbar\": {\"outlinewidth\": 0, \"ticks\": \"\"}}, \"type\": \"scatter\"}], \"scatter3d\": [{\"line\": {\"colorbar\": {\"outlinewidth\": 0, \"ticks\": \"\"}}, \"marker\": {\"colorbar\": {\"outlinewidth\": 0, \"ticks\": \"\"}}, \"type\": \"scatter3d\"}], \"scattercarpet\": [{\"marker\": {\"colorbar\": {\"outlinewidth\": 0, \"ticks\": \"\"}}, \"type\": \"scattercarpet\"}], \"scattergeo\": [{\"marker\": {\"colorbar\": {\"outlinewidth\": 0, \"ticks\": \"\"}}, \"type\": \"scattergeo\"}], \"scattergl\": [{\"marker\": {\"colorbar\": {\"outlinewidth\": 0, \"ticks\": \"\"}}, \"type\": \"scattergl\"}], \"scattermapbox\": [{\"marker\": {\"colorbar\": {\"outlinewidth\": 0, \"ticks\": \"\"}}, \"type\": \"scattermapbox\"}], \"scatterpolar\": [{\"marker\": {\"colorbar\": {\"outlinewidth\": 0, \"ticks\": \"\"}}, \"type\": \"scatterpolar\"}], \"scatterpolargl\": [{\"marker\": {\"colorbar\": {\"outlinewidth\": 0, \"ticks\": \"\"}}, \"type\": \"scatterpolargl\"}], \"scatterternary\": [{\"marker\": {\"colorbar\": {\"outlinewidth\": 0, \"ticks\": \"\"}}, \"type\": \"scatterternary\"}], \"surface\": [{\"colorbar\": {\"outlinewidth\": 0, \"ticks\": \"\"}, \"colorscale\": [[0.0, \"#0d0887\"], [0.1111111111111111, \"#46039f\"], [0.2222222222222222, \"#7201a8\"], [0.3333333333333333, \"#9c179e\"], [0.4444444444444444, \"#bd3786\"], [0.5555555555555556, \"#d8576b\"], [0.6666666666666666, \"#ed7953\"], [0.7777777777777778, \"#fb9f3a\"], [0.8888888888888888, \"#fdca26\"], [1.0, \"#f0f921\"]], \"type\": \"surface\"}], \"table\": [{\"cells\": {\"fill\": {\"color\": \"#EBF0F8\"}, \"line\": {\"color\": \"white\"}}, \"header\": {\"fill\": {\"color\": \"#C8D4E3\"}, \"line\": {\"color\": \"white\"}}, \"type\": \"table\"}]}, \"layout\": {\"annotationdefaults\": {\"arrowcolor\": \"#2a3f5f\", \"arrowhead\": 0, \"arrowwidth\": 1}, \"coloraxis\": {\"colorbar\": {\"outlinewidth\": 0, \"ticks\": \"\"}}, \"colorscale\": {\"diverging\": [[0, \"#8e0152\"], [0.1, \"#c51b7d\"], [0.2, \"#de77ae\"], [0.3, \"#f1b6da\"], [0.4, \"#fde0ef\"], [0.5, \"#f7f7f7\"], [0.6, \"#e6f5d0\"], [0.7, \"#b8e186\"], [0.8, \"#7fbc41\"], [0.9, \"#4d9221\"], [1, \"#276419\"]], \"sequential\": [[0.0, \"#0d0887\"], [0.1111111111111111, \"#46039f\"], [0.2222222222222222, \"#7201a8\"], [0.3333333333333333, \"#9c179e\"], [0.4444444444444444, \"#bd3786\"], [0.5555555555555556, \"#d8576b\"], [0.6666666666666666, \"#ed7953\"], [0.7777777777777778, \"#fb9f3a\"], [0.8888888888888888, \"#fdca26\"], [1.0, \"#f0f921\"]], \"sequentialminus\": [[0.0, \"#0d0887\"], [0.1111111111111111, \"#46039f\"], [0.2222222222222222, \"#7201a8\"], [0.3333333333333333, \"#9c179e\"], [0.4444444444444444, \"#bd3786\"], [0.5555555555555556, \"#d8576b\"], [0.6666666666666666, \"#ed7953\"], [0.7777777777777778, \"#fb9f3a\"], [0.8888888888888888, \"#fdca26\"], [1.0, \"#f0f921\"]]}, \"colorway\": [\"#636efa\", \"#EF553B\", \"#00cc96\", \"#ab63fa\", \"#FFA15A\", \"#19d3f3\", \"#FF6692\", \"#B6E880\", \"#FF97FF\", \"#FECB52\"], \"font\": {\"color\": \"#2a3f5f\"}, \"geo\": {\"bgcolor\": \"white\", \"lakecolor\": \"white\", \"landcolor\": \"#E5ECF6\", \"showlakes\": true, \"showland\": true, \"subunitcolor\": \"white\"}, \"hoverlabel\": {\"align\": \"left\"}, \"hovermode\": \"closest\", \"mapbox\": {\"style\": \"light\"}, \"paper_bgcolor\": \"white\", \"plot_bgcolor\": \"#E5ECF6\", \"polar\": {\"angularaxis\": {\"gridcolor\": \"white\", \"linecolor\": \"white\", \"ticks\": \"\"}, \"bgcolor\": \"#E5ECF6\", \"radialaxis\": {\"gridcolor\": \"white\", \"linecolor\": \"white\", \"ticks\": \"\"}}, \"scene\": {\"xaxis\": {\"backgroundcolor\": \"#E5ECF6\", \"gridcolor\": \"white\", \"gridwidth\": 2, \"linecolor\": \"white\", \"showbackground\": true, \"ticks\": \"\", \"zerolinecolor\": \"white\"}, \"yaxis\": {\"backgroundcolor\": \"#E5ECF6\", \"gridcolor\": \"white\", \"gridwidth\": 2, \"linecolor\": \"white\", \"showbackground\": true, \"ticks\": \"\", \"zerolinecolor\": \"white\"}, \"zaxis\": {\"backgroundcolor\": \"#E5ECF6\", \"gridcolor\": \"white\", \"gridwidth\": 2, \"linecolor\": \"white\", \"showbackground\": true, \"ticks\": \"\", \"zerolinecolor\": \"white\"}}, \"shapedefaults\": {\"line\": {\"color\": \"#2a3f5f\"}}, \"ternary\": {\"aaxis\": {\"gridcolor\": \"white\", \"linecolor\": \"white\", \"ticks\": \"\"}, \"baxis\": {\"gridcolor\": \"white\", \"linecolor\": \"white\", \"ticks\": \"\"}, \"bgcolor\": \"#E5ECF6\", \"caxis\": {\"gridcolor\": \"white\", \"linecolor\": \"white\", \"ticks\": \"\"}}, \"title\": {\"x\": 0.05}, \"xaxis\": {\"automargin\": true, \"gridcolor\": \"white\", \"linecolor\": \"white\", \"ticks\": \"\", \"title\": {\"standoff\": 15}, \"zerolinecolor\": \"white\", \"zerolinewidth\": 2}, \"yaxis\": {\"automargin\": true, \"gridcolor\": \"white\", \"linecolor\": \"white\", \"ticks\": \"\", \"title\": {\"standoff\": 15}, \"zerolinecolor\": \"white\", \"zerolinewidth\": 2}}}},\n",
              "                        {\"responsive\": true}\n",
              "                    ).then(function(){\n",
              "                            \n",
              "var gd = document.getElementById('9d0f150d-7fab-4eb3-810d-8760f263b3e8');\n",
              "var x = new MutationObserver(function (mutations, observer) {{\n",
              "        var display = window.getComputedStyle(gd).display;\n",
              "        if (!display || display === 'none') {{\n",
              "            console.log([gd, 'removed!']);\n",
              "            Plotly.purge(gd);\n",
              "            observer.disconnect();\n",
              "        }}\n",
              "}});\n",
              "\n",
              "// Listen for the removal of the full notebook cells\n",
              "var notebookContainer = gd.closest('#notebook-container');\n",
              "if (notebookContainer) {{\n",
              "    x.observe(notebookContainer, {childList: true});\n",
              "}}\n",
              "\n",
              "// Listen for the clearing of the current output cell\n",
              "var outputEl = gd.closest('.output');\n",
              "if (outputEl) {{\n",
              "    x.observe(outputEl, {childList: true});\n",
              "}}\n",
              "\n",
              "                        })\n",
              "                };\n",
              "                \n",
              "            </script>\n",
              "        </div>\n",
              "</body>\n",
              "</html>"
            ]
          },
          "metadata": {
            "tags": []
          }
        },
        {
          "output_type": "stream",
          "text": [
            "35.0 > 4.77\n",
            "67.59946991783725 > 100\n"
          ],
          "name": "stdout"
        }
      ]
    },
    {
      "cell_type": "markdown",
      "metadata": {
        "id": "4HdmKwvOIKvE",
        "colab_type": "text"
      },
      "source": [
        ""
      ]
    }
  ]
}