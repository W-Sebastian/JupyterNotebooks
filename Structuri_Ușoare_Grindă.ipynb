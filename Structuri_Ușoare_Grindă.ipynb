{
  "cells": [
    {
      "cell_type": "markdown",
      "metadata": {
        "id": "view-in-github",
        "colab_type": "text"
      },
      "source": [
        "<a href=\"https://colab.research.google.com/github/W-Sebastian/JupyterNotebooks/blob/master/Structuri_U%C8%99oare_Grind%C4%83.ipynb\" target=\"_parent\"><img src=\"https://colab.research.google.com/assets/colab-badge.svg\" alt=\"Open In Colab\"/></a>"
      ]
    },
    {
      "cell_type": "code",
      "execution_count": 1,
      "metadata": {},
      "outputs": [
        {
          "output_type": "stream",
          "name": "stdout",
          "text": "Requirement already satisfied: pyaml in e:\\work\\jupyternotebooks\\venv\\lib\\site-packages (20.4.0)\nRequirement already satisfied: PyYAML in e:\\work\\jupyternotebooks\\venv\\lib\\site-packages (from pyaml) (5.3.1)\nRequirement already satisfied: pyswarms in e:\\work\\jupyternotebooks\\venv\\lib\\site-packages (1.1.0)\nRequirement already satisfied: scipy in e:\\work\\jupyternotebooks\\venv\\lib\\site-packages (from pyswarms) (1.4.1)\nRequirement already satisfied: attrs in e:\\work\\jupyternotebooks\\venv\\lib\\site-packages (from pyswarms) (19.3.0)\nRequirement already satisfied: matplotlib>=1.3.1 in e:\\work\\jupyternotebooks\\venv\\lib\\site-packages (from pyswarms) (3.2.1)\nRequirement already satisfied: future in e:\\work\\jupyternotebooks\\venv\\lib\\site-packages (from pyswarms) (0.18.2)\nRequirement already satisfied: tqdm in e:\\work\\jupyternotebooks\\venv\\lib\\site-packages (from pyswarms) (4.46.0)\nRequirement already satisfied: numpy in e:\\work\\jupyternotebooks\\venv\\lib\\site-packages (from pyswarms) (1.18.4)\nRequirement already satisfied: kiwisolver>=1.0.1 in e:\\work\\jupyternotebooks\\venv\\lib\\site-packages (from matplotlib>=1.3.1->pyswarms) (1.2.0)\nRequirement already satisfied: cycler>=0.10 in e:\\work\\jupyternotebooks\\venv\\lib\\site-packages (from matplotlib>=1.3.1->pyswarms) (0.10.0)\nRequirement already satisfied: python-dateutil>=2.1 in e:\\work\\jupyternotebooks\\venv\\lib\\site-packages (from matplotlib>=1.3.1->pyswarms) (2.8.1)\nRequirement already satisfied: pyparsing!=2.0.4,!=2.1.2,!=2.1.6,>=2.0.1 in e:\\work\\jupyternotebooks\\venv\\lib\\site-packages (from matplotlib>=1.3.1->pyswarms) (2.4.7)\nRequirement already satisfied: six in e:\\work\\jupyternotebooks\\venv\\lib\\site-packages (from cycler>=0.10->matplotlib>=1.3.1->pyswarms) (1.14.0)\n"
        }
      ],
      "source": [
        "# we need some extra python packages installed; let's make sure we get them now\n",
        "!pip install pyaml\n",
        "!pip install pyswarms"
      ]
    },
    {
      "cell_type": "markdown",
      "metadata": {
        "colab_type": "text",
        "id": "lr07asXxYd6M"
      },
      "source": [
        "# Analiza grindei sandwich: studiu de caz pentru o trambulină\n",
        "\n",
        "## Introducere\n",
        "\n",
        "## Definirea problemei\n",
        "\n",
        "Se propune pentru analiză studiul asupra unei trambuline de piscină de tip structură sandwich. Plecăm de la următoarea schiță:\n",
        "![schita trambulina](img/schita.png)\n",
        "\n",
        "Modelul are următoarele constrângeri:\n",
        "- Materialele folosite pentru înveliș respectic miez sunt date;\n",
        "- Lungimea grinzii trebuie să fie între 1 și 4 metri;\n",
        "- Se impune o rigiditate a grinzii de maxim 5 N/mm;\n",
        "- Un capăt de grindă este considerat încastrat;\n",
        "- Capătul liber are o condiție la limită definită prin masă de 150 Kg și accelerație de 9.834 m/s^2;\n",
        "- Lățimea grinzii este de 500 mm;\n",
        "- Factorul de siguranță pentru calculul tensiunilor este 5;\n",
        "- Costul materialelor pentru construcția grinzii nu trebuie să depășească 200€; prețul pentru fiecare material este dar în €/Kg.\n",
        "\n",
        "Se propune alegerea materialelor pentru înveliș și miez și alegerea lungimii respectiv a grosimii miezului și învelișului astfel încât:\n",
        "- Să nu se treacă de costul impus;\n",
        "- Să se reducă masa cât mai mult.\n",
        "\n",
        "Din datele problemei ne vom propune următoarele obiective:\n",
        "- Definirea modelelor analitice de calcul;\n",
        "- Corelarea rezultatelor analitice cu o analiză de element finit;\n",
        "- Găsirea combinației care ne oferă cea mai mică masă respectând limitările date;\n",
        "- Adițional vom explora și găsirea celui mai mic preț care să respecte limitările date;\n",
        "\n",
        "## Considerente limitative\n",
        "\n",
        "- Toate valorile din document sunt ținute în MKS (meter/kilogram/second) pentru a păsta uniformitatea calculelor și a reduce potențiale probleme legate de conversia de unit-uri. Conversile din alte unităti (mm, MPa) sunt făcut înainte sau după calculele propriu-zise. Pentru presiuni vom folosi unitatea Pa.\n",
        "- Se consideră în calcule o grindă cu înveliș exterior aplicat doar deasupra și sub grindă, fără a modela marginile ei deoarece le vom considera neglijabile;\n",
        "- Pe cât posibil se vor folosi abrevierile din formule pentru concepte alăturate de comentarii care vor explica semnificația lor;\n",
        "- În cod, comentarile, explicațiile și numele simbolurilor sunt în Engleza; explicațile din document sunt în Română;\n",
        "- Se vor aplica simplificări la modelele matematice conform teoriei grinzilor sandwich.\n",
        "\n",
        "# Definirea elementelor de bază pentru calculele analitice\n",
        "\n",
        "Pentru a simplifica restul aplicației vom începe prin a defini o serie de structuri care să modeleze conceptele din modelul analitic.\n",
        "Începem prin a defini structurile pentru parametrii de material, pentru geometria grinzii și pentru simularea statică.\n",
        "\n",
        "Vom defini 2 structuri diferite materiale, una va modela parametrii materialelor de înveliș iar cealalta parametrii materialelor de miez.  \n",
        "Pentru materialele de înveliș avem nevoie de:\n",
        "- Densitate ($\\rho$);\n",
        "- Modulul elastic longitudinal ($E_f$);\n",
        "- Tensiunea maximă admsibilă ($\\tau_{af}$);\n",
        "- Costul materialului în €/Kg.\n",
        "\n",
        "Pentru materialele de miez avem nevoie de:\n",
        "- Densitate ($\\rho$);\n",
        "- Modulul elastic longitudinal ($E_f$);\n",
        "- Modulul elastic transversal ($G_c$)\n",
        "- Tensiunea maximă admsibilă ($\\tau_{ac}$);\n",
        "- Costul materialului în €/Kg."
      ]
    },
    {
      "cell_type": "code",
      "metadata": {
        "id": "siSJVZy3Ri2p",
        "colab_type": "code",
        "colab": {}
      },
      "source": [
        "class SkinMaterialParameters:\n",
        "    def __init__(self, rho, Ef, tau_af, Cost):\n",
        "        self.rho = rho\n",
        "        self.Ef = Ef # Longitudinal Elastic Modulus\n",
        "        self.tau_af = tau_af # Persmissible Shear Stress\n",
        "        self.Cost = Cost # euro/kg\n",
        "\n",
        "class CoreMaterialParameters:\n",
        "    def __init__(self, rho, Ec, Gc, tau_ac, Cost):\n",
        "        self.rho = rho\n",
        "        self.Ec = Ec # Longitudinal Elastic Modulus\n",
        "        self.Gc = Gc # Transversal Elastic Modulus\n",
        "        self.tau_ac = tau_ac # Permissible Shear Stress\n",
        "        self.Cost = Cost"
      ],
      "execution_count": 2,
      "outputs": []
    },
    {
      "cell_type": "markdown",
      "metadata": {
        "id": "Ov8zhf3SYu3Q",
        "colab_type": "text"
      },
      "source": [
        "Pentru geometria grinzii avem nevoie de următorii parametrii:\n",
        "\n",
        "- Materialul pentru înveliș;\n",
        "- Materialul pentru miez;\n",
        "- Lungimea ($L$);\n",
        "- Lățimea ($b$);\n",
        "- Grosimea miezului ($tc$);\n",
        "- Grosimea învelișului ($tf$);"
      ]
    },
    {
      "cell_type": "code",
      "metadata": {
        "id": "L626BABzY6bg",
        "colab_type": "code",
        "colab": {}
      },
      "source": [
        "class BeamModel:\n",
        "    def __init__(self, L, b, tf, tc, skinMat : SkinMaterialParameters, coreMat : CoreMaterialParameters):\n",
        "        self.L = L # Lenght\n",
        "        self.b = b # Width\n",
        "        self.tf = tf # Skin height\n",
        "        self.tc = tc # Core height\n",
        "        self.SkinMat = skinMat # Material for the skin\n",
        "        self.CoreMat = coreMat # Material for the core"
      ],
      "execution_count": 3,
      "outputs": []
    },
    {
      "cell_type": "markdown",
      "metadata": {},
      "source": [
        "Ramâne să definim parametrii pentru simularea modelului analitic. Aici vom utiliza următoarele date:\n",
        "- Masa aplicată la capătul liber al grinzii ($m$);\n",
        "- Accelerația folosită pentru aplicarea condiției la limită ($a$);\n",
        "- Rigiditatea maximă admisă în grindă ($k_m$);\n",
        "- Modelul de grindă (instanță a clasei `BeamModel`);\n",
        "- Factorul de siguranță folosit în calculele tensiunilor ($s_f$)."
      ]
    },
    {
      "cell_type": "code",
      "execution_count": 4,
      "metadata": {},
      "outputs": [],
      "source": [
        "class BeamSimulation:\n",
        "    def __init__(self, m, a, km, model : BeamModel, sf):\n",
        "        self.m = m\n",
        "        self.a = a\n",
        "        self.km = km\n",
        "        self.model = model\n",
        "        self.sf = sf"
      ]
    },
    {
      "cell_type": "markdown",
      "metadata": {},
      "source": [
        "Cu aceste clase putem modela complet o simulare a unei grinzi. \n",
        "\n",
        "## Definirea propietătilor de material admise\n",
        "\n",
        "Adăugăm, conform specificaților impuse, propietățile de materiale."
      ]
    },
    {
      "cell_type": "code",
      "execution_count": 5,
      "metadata": {},
      "outputs": [],
      "source": [
        "from enum import Enum\n",
        "\n",
        "class SkinMaterials(Enum):\n",
        "    Steel = 1\n",
        "    Aluminium = 2\n",
        "    GFRP = 3\n",
        "    CFRP = 4\n",
        "\n",
        "class CoreMaterials(Enum):\n",
        "    DivinycellH60 = 1\n",
        "    DivinycellH100 = 2\n",
        "    DivinycellH130 = 3\n",
        "    DivinycellH200 = 4\n",
        "\n",
        "skin_materials = {\n",
        "    SkinMaterials.Steel: SkinMaterialParameters(7800, 205000 * 1e6, 300 * 1e6, 0.4),\n",
        "    SkinMaterials.Aluminium: SkinMaterialParameters(2700, 70000 * 1e6, 200 * 1e6, 0.7),\n",
        "    SkinMaterials.GFRP: SkinMaterialParameters(1600, 20000 * 1e6, 400 * 1e6, 4),\n",
        "    SkinMaterials.CFRP: SkinMaterialParameters(2700, 70000 * 1e6, 1000 * 1e6, 80)\n",
        "    }\n",
        "core_materials = {\n",
        "    CoreMaterials.DivinycellH60: CoreMaterialParameters(60, 550 * 1e6, 22 * 1e6, 0.6 * 1e6, 6),\n",
        "    CoreMaterials.DivinycellH100: CoreMaterialParameters(100, 95 * 1e6, 38 * 1e6, 1.2 * 1e6, 10),\n",
        "    CoreMaterials.DivinycellH130: CoreMaterialParameters(130, 125 * 1e6, 47 * 1e6, 1.6 * 1e6, 13),\n",
        "    CoreMaterials.DivinycellH200: CoreMaterialParameters(200, 195 * 1e6, 75 * 1e6, 3.0 * 1e6, 20),\n",
        "    }\n",
        "\n"
      ]
    },
    {
      "cell_type": "code",
      "execution_count": 6,
      "metadata": {},
      "outputs": [
        {
          "output_type": "display_data",
          "data": {
            "application/vnd.plotly.v1+json": {
              "config": {
                "plotlyServerURL": "https://plot.ly"
              },
              "data": [
                {
                  "cells": {
                    "align": "left",
                    "values": [
                      [
                        "Steel",
                        "Aluminium",
                        "GFRP",
                        "CFRP",
                        "DivinycellH60",
                        "DivinycellH100",
                        "DivinycellH130",
                        "DivinycellH200"
                      ],
                      [
                        7800,
                        2700,
                        1600,
                        2700,
                        60,
                        100,
                        130,
                        200
                      ],
                      [
                        205000,
                        70000,
                        20000,
                        70000,
                        550,
                        95,
                        125,
                        195
                      ],
                      [
                        "-",
                        "-",
                        "-",
                        "-",
                        22,
                        38,
                        47,
                        75
                      ],
                      [
                        300,
                        200,
                        400,
                        1000,
                        0.6,
                        1.2,
                        1.6,
                        3
                      ],
                      [
                        0.4,
                        0.7,
                        4,
                        80,
                        6,
                        10,
                        13,
                        20
                      ]
                    ]
                  },
                  "header": {
                    "align": "center",
                    "font": {
                      "size": 10
                    },
                    "values": [
                      "Material",
                      "Density <br> (kg/m^3)",
                      "E <br> (N/mm)",
                      "G <br> (N/mm)",
                      "Permisible <br> Shear Stress <br> (MPa)",
                      "Cost <br> (€/kg)"
                    ]
                  },
                  "type": "table"
                }
              ],
              "layout": {
                "template": {
                  "data": {
                    "bar": [
                      {
                        "error_x": {
                          "color": "#2a3f5f"
                        },
                        "error_y": {
                          "color": "#2a3f5f"
                        },
                        "marker": {
                          "line": {
                            "color": "#E5ECF6",
                            "width": 0.5
                          }
                        },
                        "type": "bar"
                      }
                    ],
                    "barpolar": [
                      {
                        "marker": {
                          "line": {
                            "color": "#E5ECF6",
                            "width": 0.5
                          }
                        },
                        "type": "barpolar"
                      }
                    ],
                    "carpet": [
                      {
                        "aaxis": {
                          "endlinecolor": "#2a3f5f",
                          "gridcolor": "white",
                          "linecolor": "white",
                          "minorgridcolor": "white",
                          "startlinecolor": "#2a3f5f"
                        },
                        "baxis": {
                          "endlinecolor": "#2a3f5f",
                          "gridcolor": "white",
                          "linecolor": "white",
                          "minorgridcolor": "white",
                          "startlinecolor": "#2a3f5f"
                        },
                        "type": "carpet"
                      }
                    ],
                    "choropleth": [
                      {
                        "colorbar": {
                          "outlinewidth": 0,
                          "ticks": ""
                        },
                        "type": "choropleth"
                      }
                    ],
                    "contour": [
                      {
                        "colorbar": {
                          "outlinewidth": 0,
                          "ticks": ""
                        },
                        "colorscale": [
                          [
                            0,
                            "#0d0887"
                          ],
                          [
                            0.1111111111111111,
                            "#46039f"
                          ],
                          [
                            0.2222222222222222,
                            "#7201a8"
                          ],
                          [
                            0.3333333333333333,
                            "#9c179e"
                          ],
                          [
                            0.4444444444444444,
                            "#bd3786"
                          ],
                          [
                            0.5555555555555556,
                            "#d8576b"
                          ],
                          [
                            0.6666666666666666,
                            "#ed7953"
                          ],
                          [
                            0.7777777777777778,
                            "#fb9f3a"
                          ],
                          [
                            0.8888888888888888,
                            "#fdca26"
                          ],
                          [
                            1,
                            "#f0f921"
                          ]
                        ],
                        "type": "contour"
                      }
                    ],
                    "contourcarpet": [
                      {
                        "colorbar": {
                          "outlinewidth": 0,
                          "ticks": ""
                        },
                        "type": "contourcarpet"
                      }
                    ],
                    "heatmap": [
                      {
                        "colorbar": {
                          "outlinewidth": 0,
                          "ticks": ""
                        },
                        "colorscale": [
                          [
                            0,
                            "#0d0887"
                          ],
                          [
                            0.1111111111111111,
                            "#46039f"
                          ],
                          [
                            0.2222222222222222,
                            "#7201a8"
                          ],
                          [
                            0.3333333333333333,
                            "#9c179e"
                          ],
                          [
                            0.4444444444444444,
                            "#bd3786"
                          ],
                          [
                            0.5555555555555556,
                            "#d8576b"
                          ],
                          [
                            0.6666666666666666,
                            "#ed7953"
                          ],
                          [
                            0.7777777777777778,
                            "#fb9f3a"
                          ],
                          [
                            0.8888888888888888,
                            "#fdca26"
                          ],
                          [
                            1,
                            "#f0f921"
                          ]
                        ],
                        "type": "heatmap"
                      }
                    ],
                    "heatmapgl": [
                      {
                        "colorbar": {
                          "outlinewidth": 0,
                          "ticks": ""
                        },
                        "colorscale": [
                          [
                            0,
                            "#0d0887"
                          ],
                          [
                            0.1111111111111111,
                            "#46039f"
                          ],
                          [
                            0.2222222222222222,
                            "#7201a8"
                          ],
                          [
                            0.3333333333333333,
                            "#9c179e"
                          ],
                          [
                            0.4444444444444444,
                            "#bd3786"
                          ],
                          [
                            0.5555555555555556,
                            "#d8576b"
                          ],
                          [
                            0.6666666666666666,
                            "#ed7953"
                          ],
                          [
                            0.7777777777777778,
                            "#fb9f3a"
                          ],
                          [
                            0.8888888888888888,
                            "#fdca26"
                          ],
                          [
                            1,
                            "#f0f921"
                          ]
                        ],
                        "type": "heatmapgl"
                      }
                    ],
                    "histogram": [
                      {
                        "marker": {
                          "colorbar": {
                            "outlinewidth": 0,
                            "ticks": ""
                          }
                        },
                        "type": "histogram"
                      }
                    ],
                    "histogram2d": [
                      {
                        "colorbar": {
                          "outlinewidth": 0,
                          "ticks": ""
                        },
                        "colorscale": [
                          [
                            0,
                            "#0d0887"
                          ],
                          [
                            0.1111111111111111,
                            "#46039f"
                          ],
                          [
                            0.2222222222222222,
                            "#7201a8"
                          ],
                          [
                            0.3333333333333333,
                            "#9c179e"
                          ],
                          [
                            0.4444444444444444,
                            "#bd3786"
                          ],
                          [
                            0.5555555555555556,
                            "#d8576b"
                          ],
                          [
                            0.6666666666666666,
                            "#ed7953"
                          ],
                          [
                            0.7777777777777778,
                            "#fb9f3a"
                          ],
                          [
                            0.8888888888888888,
                            "#fdca26"
                          ],
                          [
                            1,
                            "#f0f921"
                          ]
                        ],
                        "type": "histogram2d"
                      }
                    ],
                    "histogram2dcontour": [
                      {
                        "colorbar": {
                          "outlinewidth": 0,
                          "ticks": ""
                        },
                        "colorscale": [
                          [
                            0,
                            "#0d0887"
                          ],
                          [
                            0.1111111111111111,
                            "#46039f"
                          ],
                          [
                            0.2222222222222222,
                            "#7201a8"
                          ],
                          [
                            0.3333333333333333,
                            "#9c179e"
                          ],
                          [
                            0.4444444444444444,
                            "#bd3786"
                          ],
                          [
                            0.5555555555555556,
                            "#d8576b"
                          ],
                          [
                            0.6666666666666666,
                            "#ed7953"
                          ],
                          [
                            0.7777777777777778,
                            "#fb9f3a"
                          ],
                          [
                            0.8888888888888888,
                            "#fdca26"
                          ],
                          [
                            1,
                            "#f0f921"
                          ]
                        ],
                        "type": "histogram2dcontour"
                      }
                    ],
                    "mesh3d": [
                      {
                        "colorbar": {
                          "outlinewidth": 0,
                          "ticks": ""
                        },
                        "type": "mesh3d"
                      }
                    ],
                    "parcoords": [
                      {
                        "line": {
                          "colorbar": {
                            "outlinewidth": 0,
                            "ticks": ""
                          }
                        },
                        "type": "parcoords"
                      }
                    ],
                    "pie": [
                      {
                        "automargin": true,
                        "type": "pie"
                      }
                    ],
                    "scatter": [
                      {
                        "marker": {
                          "colorbar": {
                            "outlinewidth": 0,
                            "ticks": ""
                          }
                        },
                        "type": "scatter"
                      }
                    ],
                    "scatter3d": [
                      {
                        "line": {
                          "colorbar": {
                            "outlinewidth": 0,
                            "ticks": ""
                          }
                        },
                        "marker": {
                          "colorbar": {
                            "outlinewidth": 0,
                            "ticks": ""
                          }
                        },
                        "type": "scatter3d"
                      }
                    ],
                    "scattercarpet": [
                      {
                        "marker": {
                          "colorbar": {
                            "outlinewidth": 0,
                            "ticks": ""
                          }
                        },
                        "type": "scattercarpet"
                      }
                    ],
                    "scattergeo": [
                      {
                        "marker": {
                          "colorbar": {
                            "outlinewidth": 0,
                            "ticks": ""
                          }
                        },
                        "type": "scattergeo"
                      }
                    ],
                    "scattergl": [
                      {
                        "marker": {
                          "colorbar": {
                            "outlinewidth": 0,
                            "ticks": ""
                          }
                        },
                        "type": "scattergl"
                      }
                    ],
                    "scattermapbox": [
                      {
                        "marker": {
                          "colorbar": {
                            "outlinewidth": 0,
                            "ticks": ""
                          }
                        },
                        "type": "scattermapbox"
                      }
                    ],
                    "scatterpolar": [
                      {
                        "marker": {
                          "colorbar": {
                            "outlinewidth": 0,
                            "ticks": ""
                          }
                        },
                        "type": "scatterpolar"
                      }
                    ],
                    "scatterpolargl": [
                      {
                        "marker": {
                          "colorbar": {
                            "outlinewidth": 0,
                            "ticks": ""
                          }
                        },
                        "type": "scatterpolargl"
                      }
                    ],
                    "scatterternary": [
                      {
                        "marker": {
                          "colorbar": {
                            "outlinewidth": 0,
                            "ticks": ""
                          }
                        },
                        "type": "scatterternary"
                      }
                    ],
                    "surface": [
                      {
                        "colorbar": {
                          "outlinewidth": 0,
                          "ticks": ""
                        },
                        "colorscale": [
                          [
                            0,
                            "#0d0887"
                          ],
                          [
                            0.1111111111111111,
                            "#46039f"
                          ],
                          [
                            0.2222222222222222,
                            "#7201a8"
                          ],
                          [
                            0.3333333333333333,
                            "#9c179e"
                          ],
                          [
                            0.4444444444444444,
                            "#bd3786"
                          ],
                          [
                            0.5555555555555556,
                            "#d8576b"
                          ],
                          [
                            0.6666666666666666,
                            "#ed7953"
                          ],
                          [
                            0.7777777777777778,
                            "#fb9f3a"
                          ],
                          [
                            0.8888888888888888,
                            "#fdca26"
                          ],
                          [
                            1,
                            "#f0f921"
                          ]
                        ],
                        "type": "surface"
                      }
                    ],
                    "table": [
                      {
                        "cells": {
                          "fill": {
                            "color": "#EBF0F8"
                          },
                          "line": {
                            "color": "white"
                          }
                        },
                        "header": {
                          "fill": {
                            "color": "#C8D4E3"
                          },
                          "line": {
                            "color": "white"
                          }
                        },
                        "type": "table"
                      }
                    ]
                  },
                  "layout": {
                    "annotationdefaults": {
                      "arrowcolor": "#2a3f5f",
                      "arrowhead": 0,
                      "arrowwidth": 1
                    },
                    "coloraxis": {
                      "colorbar": {
                        "outlinewidth": 0,
                        "ticks": ""
                      }
                    },
                    "colorscale": {
                      "diverging": [
                        [
                          0,
                          "#8e0152"
                        ],
                        [
                          0.1,
                          "#c51b7d"
                        ],
                        [
                          0.2,
                          "#de77ae"
                        ],
                        [
                          0.3,
                          "#f1b6da"
                        ],
                        [
                          0.4,
                          "#fde0ef"
                        ],
                        [
                          0.5,
                          "#f7f7f7"
                        ],
                        [
                          0.6,
                          "#e6f5d0"
                        ],
                        [
                          0.7,
                          "#b8e186"
                        ],
                        [
                          0.8,
                          "#7fbc41"
                        ],
                        [
                          0.9,
                          "#4d9221"
                        ],
                        [
                          1,
                          "#276419"
                        ]
                      ],
                      "sequential": [
                        [
                          0,
                          "#0d0887"
                        ],
                        [
                          0.1111111111111111,
                          "#46039f"
                        ],
                        [
                          0.2222222222222222,
                          "#7201a8"
                        ],
                        [
                          0.3333333333333333,
                          "#9c179e"
                        ],
                        [
                          0.4444444444444444,
                          "#bd3786"
                        ],
                        [
                          0.5555555555555556,
                          "#d8576b"
                        ],
                        [
                          0.6666666666666666,
                          "#ed7953"
                        ],
                        [
                          0.7777777777777778,
                          "#fb9f3a"
                        ],
                        [
                          0.8888888888888888,
                          "#fdca26"
                        ],
                        [
                          1,
                          "#f0f921"
                        ]
                      ],
                      "sequentialminus": [
                        [
                          0,
                          "#0d0887"
                        ],
                        [
                          0.1111111111111111,
                          "#46039f"
                        ],
                        [
                          0.2222222222222222,
                          "#7201a8"
                        ],
                        [
                          0.3333333333333333,
                          "#9c179e"
                        ],
                        [
                          0.4444444444444444,
                          "#bd3786"
                        ],
                        [
                          0.5555555555555556,
                          "#d8576b"
                        ],
                        [
                          0.6666666666666666,
                          "#ed7953"
                        ],
                        [
                          0.7777777777777778,
                          "#fb9f3a"
                        ],
                        [
                          0.8888888888888888,
                          "#fdca26"
                        ],
                        [
                          1,
                          "#f0f921"
                        ]
                      ]
                    },
                    "colorway": [
                      "#636efa",
                      "#EF553B",
                      "#00cc96",
                      "#ab63fa",
                      "#FFA15A",
                      "#19d3f3",
                      "#FF6692",
                      "#B6E880",
                      "#FF97FF",
                      "#FECB52"
                    ],
                    "font": {
                      "color": "#2a3f5f"
                    },
                    "geo": {
                      "bgcolor": "white",
                      "lakecolor": "white",
                      "landcolor": "#E5ECF6",
                      "showlakes": true,
                      "showland": true,
                      "subunitcolor": "white"
                    },
                    "hoverlabel": {
                      "align": "left"
                    },
                    "hovermode": "closest",
                    "mapbox": {
                      "style": "light"
                    },
                    "paper_bgcolor": "white",
                    "plot_bgcolor": "#E5ECF6",
                    "polar": {
                      "angularaxis": {
                        "gridcolor": "white",
                        "linecolor": "white",
                        "ticks": ""
                      },
                      "bgcolor": "#E5ECF6",
                      "radialaxis": {
                        "gridcolor": "white",
                        "linecolor": "white",
                        "ticks": ""
                      }
                    },
                    "scene": {
                      "xaxis": {
                        "backgroundcolor": "#E5ECF6",
                        "gridcolor": "white",
                        "gridwidth": 2,
                        "linecolor": "white",
                        "showbackground": true,
                        "ticks": "",
                        "zerolinecolor": "white"
                      },
                      "yaxis": {
                        "backgroundcolor": "#E5ECF6",
                        "gridcolor": "white",
                        "gridwidth": 2,
                        "linecolor": "white",
                        "showbackground": true,
                        "ticks": "",
                        "zerolinecolor": "white"
                      },
                      "zaxis": {
                        "backgroundcolor": "#E5ECF6",
                        "gridcolor": "white",
                        "gridwidth": 2,
                        "linecolor": "white",
                        "showbackground": true,
                        "ticks": "",
                        "zerolinecolor": "white"
                      }
                    },
                    "shapedefaults": {
                      "line": {
                        "color": "#2a3f5f"
                      }
                    },
                    "ternary": {
                      "aaxis": {
                        "gridcolor": "white",
                        "linecolor": "white",
                        "ticks": ""
                      },
                      "baxis": {
                        "gridcolor": "white",
                        "linecolor": "white",
                        "ticks": ""
                      },
                      "bgcolor": "#E5ECF6",
                      "caxis": {
                        "gridcolor": "white",
                        "linecolor": "white",
                        "ticks": ""
                      }
                    },
                    "title": {
                      "x": 0.05
                    },
                    "xaxis": {
                      "automargin": true,
                      "gridcolor": "white",
                      "linecolor": "white",
                      "ticks": "",
                      "title": {
                        "standoff": 15
                      },
                      "zerolinecolor": "white",
                      "zerolinewidth": 2
                    },
                    "yaxis": {
                      "automargin": true,
                      "gridcolor": "white",
                      "linecolor": "white",
                      "ticks": "",
                      "title": {
                        "standoff": 15
                      },
                      "zerolinecolor": "white",
                      "zerolinewidth": 2
                    }
                  }
                }
              }
            }
          },
          "metadata": {}
        },
        {
          "output_type": "display_data",
          "data": {
            "application/vnd.plotly.v1+json": {
              "config": {
                "plotlyServerURL": "https://plot.ly"
              },
              "data": [
                {
                  "type": "bar",
                  "x": [
                    "DivinycellH60",
                    "DivinycellH100",
                    "DivinycellH130",
                    "DivinycellH200"
                  ],
                  "xaxis": "x",
                  "y": [
                    360,
                    1000,
                    1690,
                    4000
                  ],
                  "yaxis": "y"
                },
                {
                  "type": "bar",
                  "x": [
                    "Steel",
                    "Aluminium",
                    "GFRP",
                    "CFRP"
                  ],
                  "xaxis": "x2",
                  "y": [
                    3120,
                    1889.9999999999998,
                    6400,
                    216000
                  ],
                  "yaxis": "y2"
                }
              ],
              "layout": {
                "annotations": [
                  {
                    "font": {
                      "size": 16
                    },
                    "showarrow": false,
                    "text": "Core Materials (cost per m^3)",
                    "x": 0.225,
                    "xanchor": "center",
                    "xref": "paper",
                    "y": 1,
                    "yanchor": "bottom",
                    "yref": "paper"
                  },
                  {
                    "font": {
                      "size": 16
                    },
                    "showarrow": false,
                    "text": "Skin Materials (cost per m^3)",
                    "x": 0.775,
                    "xanchor": "center",
                    "xref": "paper",
                    "y": 1,
                    "yanchor": "bottom",
                    "yref": "paper"
                  }
                ],
                "coloraxis": {
                  "colorscale": [
                    [
                      0,
                      "rgb(255,0,0)"
                    ],
                    [
                      1,
                      "rgb(0,0,255)"
                    ]
                  ]
                },
                "showlegend": false,
                "template": {
                  "data": {
                    "bar": [
                      {
                        "error_x": {
                          "color": "#2a3f5f"
                        },
                        "error_y": {
                          "color": "#2a3f5f"
                        },
                        "marker": {
                          "line": {
                            "color": "#E5ECF6",
                            "width": 0.5
                          }
                        },
                        "type": "bar"
                      }
                    ],
                    "barpolar": [
                      {
                        "marker": {
                          "line": {
                            "color": "#E5ECF6",
                            "width": 0.5
                          }
                        },
                        "type": "barpolar"
                      }
                    ],
                    "carpet": [
                      {
                        "aaxis": {
                          "endlinecolor": "#2a3f5f",
                          "gridcolor": "white",
                          "linecolor": "white",
                          "minorgridcolor": "white",
                          "startlinecolor": "#2a3f5f"
                        },
                        "baxis": {
                          "endlinecolor": "#2a3f5f",
                          "gridcolor": "white",
                          "linecolor": "white",
                          "minorgridcolor": "white",
                          "startlinecolor": "#2a3f5f"
                        },
                        "type": "carpet"
                      }
                    ],
                    "choropleth": [
                      {
                        "colorbar": {
                          "outlinewidth": 0,
                          "ticks": ""
                        },
                        "type": "choropleth"
                      }
                    ],
                    "contour": [
                      {
                        "colorbar": {
                          "outlinewidth": 0,
                          "ticks": ""
                        },
                        "colorscale": [
                          [
                            0,
                            "#0d0887"
                          ],
                          [
                            0.1111111111111111,
                            "#46039f"
                          ],
                          [
                            0.2222222222222222,
                            "#7201a8"
                          ],
                          [
                            0.3333333333333333,
                            "#9c179e"
                          ],
                          [
                            0.4444444444444444,
                            "#bd3786"
                          ],
                          [
                            0.5555555555555556,
                            "#d8576b"
                          ],
                          [
                            0.6666666666666666,
                            "#ed7953"
                          ],
                          [
                            0.7777777777777778,
                            "#fb9f3a"
                          ],
                          [
                            0.8888888888888888,
                            "#fdca26"
                          ],
                          [
                            1,
                            "#f0f921"
                          ]
                        ],
                        "type": "contour"
                      }
                    ],
                    "contourcarpet": [
                      {
                        "colorbar": {
                          "outlinewidth": 0,
                          "ticks": ""
                        },
                        "type": "contourcarpet"
                      }
                    ],
                    "heatmap": [
                      {
                        "colorbar": {
                          "outlinewidth": 0,
                          "ticks": ""
                        },
                        "colorscale": [
                          [
                            0,
                            "#0d0887"
                          ],
                          [
                            0.1111111111111111,
                            "#46039f"
                          ],
                          [
                            0.2222222222222222,
                            "#7201a8"
                          ],
                          [
                            0.3333333333333333,
                            "#9c179e"
                          ],
                          [
                            0.4444444444444444,
                            "#bd3786"
                          ],
                          [
                            0.5555555555555556,
                            "#d8576b"
                          ],
                          [
                            0.6666666666666666,
                            "#ed7953"
                          ],
                          [
                            0.7777777777777778,
                            "#fb9f3a"
                          ],
                          [
                            0.8888888888888888,
                            "#fdca26"
                          ],
                          [
                            1,
                            "#f0f921"
                          ]
                        ],
                        "type": "heatmap"
                      }
                    ],
                    "heatmapgl": [
                      {
                        "colorbar": {
                          "outlinewidth": 0,
                          "ticks": ""
                        },
                        "colorscale": [
                          [
                            0,
                            "#0d0887"
                          ],
                          [
                            0.1111111111111111,
                            "#46039f"
                          ],
                          [
                            0.2222222222222222,
                            "#7201a8"
                          ],
                          [
                            0.3333333333333333,
                            "#9c179e"
                          ],
                          [
                            0.4444444444444444,
                            "#bd3786"
                          ],
                          [
                            0.5555555555555556,
                            "#d8576b"
                          ],
                          [
                            0.6666666666666666,
                            "#ed7953"
                          ],
                          [
                            0.7777777777777778,
                            "#fb9f3a"
                          ],
                          [
                            0.8888888888888888,
                            "#fdca26"
                          ],
                          [
                            1,
                            "#f0f921"
                          ]
                        ],
                        "type": "heatmapgl"
                      }
                    ],
                    "histogram": [
                      {
                        "marker": {
                          "colorbar": {
                            "outlinewidth": 0,
                            "ticks": ""
                          }
                        },
                        "type": "histogram"
                      }
                    ],
                    "histogram2d": [
                      {
                        "colorbar": {
                          "outlinewidth": 0,
                          "ticks": ""
                        },
                        "colorscale": [
                          [
                            0,
                            "#0d0887"
                          ],
                          [
                            0.1111111111111111,
                            "#46039f"
                          ],
                          [
                            0.2222222222222222,
                            "#7201a8"
                          ],
                          [
                            0.3333333333333333,
                            "#9c179e"
                          ],
                          [
                            0.4444444444444444,
                            "#bd3786"
                          ],
                          [
                            0.5555555555555556,
                            "#d8576b"
                          ],
                          [
                            0.6666666666666666,
                            "#ed7953"
                          ],
                          [
                            0.7777777777777778,
                            "#fb9f3a"
                          ],
                          [
                            0.8888888888888888,
                            "#fdca26"
                          ],
                          [
                            1,
                            "#f0f921"
                          ]
                        ],
                        "type": "histogram2d"
                      }
                    ],
                    "histogram2dcontour": [
                      {
                        "colorbar": {
                          "outlinewidth": 0,
                          "ticks": ""
                        },
                        "colorscale": [
                          [
                            0,
                            "#0d0887"
                          ],
                          [
                            0.1111111111111111,
                            "#46039f"
                          ],
                          [
                            0.2222222222222222,
                            "#7201a8"
                          ],
                          [
                            0.3333333333333333,
                            "#9c179e"
                          ],
                          [
                            0.4444444444444444,
                            "#bd3786"
                          ],
                          [
                            0.5555555555555556,
                            "#d8576b"
                          ],
                          [
                            0.6666666666666666,
                            "#ed7953"
                          ],
                          [
                            0.7777777777777778,
                            "#fb9f3a"
                          ],
                          [
                            0.8888888888888888,
                            "#fdca26"
                          ],
                          [
                            1,
                            "#f0f921"
                          ]
                        ],
                        "type": "histogram2dcontour"
                      }
                    ],
                    "mesh3d": [
                      {
                        "colorbar": {
                          "outlinewidth": 0,
                          "ticks": ""
                        },
                        "type": "mesh3d"
                      }
                    ],
                    "parcoords": [
                      {
                        "line": {
                          "colorbar": {
                            "outlinewidth": 0,
                            "ticks": ""
                          }
                        },
                        "type": "parcoords"
                      }
                    ],
                    "pie": [
                      {
                        "automargin": true,
                        "type": "pie"
                      }
                    ],
                    "scatter": [
                      {
                        "marker": {
                          "colorbar": {
                            "outlinewidth": 0,
                            "ticks": ""
                          }
                        },
                        "type": "scatter"
                      }
                    ],
                    "scatter3d": [
                      {
                        "line": {
                          "colorbar": {
                            "outlinewidth": 0,
                            "ticks": ""
                          }
                        },
                        "marker": {
                          "colorbar": {
                            "outlinewidth": 0,
                            "ticks": ""
                          }
                        },
                        "type": "scatter3d"
                      }
                    ],
                    "scattercarpet": [
                      {
                        "marker": {
                          "colorbar": {
                            "outlinewidth": 0,
                            "ticks": ""
                          }
                        },
                        "type": "scattercarpet"
                      }
                    ],
                    "scattergeo": [
                      {
                        "marker": {
                          "colorbar": {
                            "outlinewidth": 0,
                            "ticks": ""
                          }
                        },
                        "type": "scattergeo"
                      }
                    ],
                    "scattergl": [
                      {
                        "marker": {
                          "colorbar": {
                            "outlinewidth": 0,
                            "ticks": ""
                          }
                        },
                        "type": "scattergl"
                      }
                    ],
                    "scattermapbox": [
                      {
                        "marker": {
                          "colorbar": {
                            "outlinewidth": 0,
                            "ticks": ""
                          }
                        },
                        "type": "scattermapbox"
                      }
                    ],
                    "scatterpolar": [
                      {
                        "marker": {
                          "colorbar": {
                            "outlinewidth": 0,
                            "ticks": ""
                          }
                        },
                        "type": "scatterpolar"
                      }
                    ],
                    "scatterpolargl": [
                      {
                        "marker": {
                          "colorbar": {
                            "outlinewidth": 0,
                            "ticks": ""
                          }
                        },
                        "type": "scatterpolargl"
                      }
                    ],
                    "scatterternary": [
                      {
                        "marker": {
                          "colorbar": {
                            "outlinewidth": 0,
                            "ticks": ""
                          }
                        },
                        "type": "scatterternary"
                      }
                    ],
                    "surface": [
                      {
                        "colorbar": {
                          "outlinewidth": 0,
                          "ticks": ""
                        },
                        "colorscale": [
                          [
                            0,
                            "#0d0887"
                          ],
                          [
                            0.1111111111111111,
                            "#46039f"
                          ],
                          [
                            0.2222222222222222,
                            "#7201a8"
                          ],
                          [
                            0.3333333333333333,
                            "#9c179e"
                          ],
                          [
                            0.4444444444444444,
                            "#bd3786"
                          ],
                          [
                            0.5555555555555556,
                            "#d8576b"
                          ],
                          [
                            0.6666666666666666,
                            "#ed7953"
                          ],
                          [
                            0.7777777777777778,
                            "#fb9f3a"
                          ],
                          [
                            0.8888888888888888,
                            "#fdca26"
                          ],
                          [
                            1,
                            "#f0f921"
                          ]
                        ],
                        "type": "surface"
                      }
                    ],
                    "table": [
                      {
                        "cells": {
                          "fill": {
                            "color": "#EBF0F8"
                          },
                          "line": {
                            "color": "white"
                          }
                        },
                        "header": {
                          "fill": {
                            "color": "#C8D4E3"
                          },
                          "line": {
                            "color": "white"
                          }
                        },
                        "type": "table"
                      }
                    ]
                  },
                  "layout": {
                    "annotationdefaults": {
                      "arrowcolor": "#2a3f5f",
                      "arrowhead": 0,
                      "arrowwidth": 1
                    },
                    "coloraxis": {
                      "colorbar": {
                        "outlinewidth": 0,
                        "ticks": ""
                      }
                    },
                    "colorscale": {
                      "diverging": [
                        [
                          0,
                          "#8e0152"
                        ],
                        [
                          0.1,
                          "#c51b7d"
                        ],
                        [
                          0.2,
                          "#de77ae"
                        ],
                        [
                          0.3,
                          "#f1b6da"
                        ],
                        [
                          0.4,
                          "#fde0ef"
                        ],
                        [
                          0.5,
                          "#f7f7f7"
                        ],
                        [
                          0.6,
                          "#e6f5d0"
                        ],
                        [
                          0.7,
                          "#b8e186"
                        ],
                        [
                          0.8,
                          "#7fbc41"
                        ],
                        [
                          0.9,
                          "#4d9221"
                        ],
                        [
                          1,
                          "#276419"
                        ]
                      ],
                      "sequential": [
                        [
                          0,
                          "#0d0887"
                        ],
                        [
                          0.1111111111111111,
                          "#46039f"
                        ],
                        [
                          0.2222222222222222,
                          "#7201a8"
                        ],
                        [
                          0.3333333333333333,
                          "#9c179e"
                        ],
                        [
                          0.4444444444444444,
                          "#bd3786"
                        ],
                        [
                          0.5555555555555556,
                          "#d8576b"
                        ],
                        [
                          0.6666666666666666,
                          "#ed7953"
                        ],
                        [
                          0.7777777777777778,
                          "#fb9f3a"
                        ],
                        [
                          0.8888888888888888,
                          "#fdca26"
                        ],
                        [
                          1,
                          "#f0f921"
                        ]
                      ],
                      "sequentialminus": [
                        [
                          0,
                          "#0d0887"
                        ],
                        [
                          0.1111111111111111,
                          "#46039f"
                        ],
                        [
                          0.2222222222222222,
                          "#7201a8"
                        ],
                        [
                          0.3333333333333333,
                          "#9c179e"
                        ],
                        [
                          0.4444444444444444,
                          "#bd3786"
                        ],
                        [
                          0.5555555555555556,
                          "#d8576b"
                        ],
                        [
                          0.6666666666666666,
                          "#ed7953"
                        ],
                        [
                          0.7777777777777778,
                          "#fb9f3a"
                        ],
                        [
                          0.8888888888888888,
                          "#fdca26"
                        ],
                        [
                          1,
                          "#f0f921"
                        ]
                      ]
                    },
                    "colorway": [
                      "#636efa",
                      "#EF553B",
                      "#00cc96",
                      "#ab63fa",
                      "#FFA15A",
                      "#19d3f3",
                      "#FF6692",
                      "#B6E880",
                      "#FF97FF",
                      "#FECB52"
                    ],
                    "font": {
                      "color": "#2a3f5f"
                    },
                    "geo": {
                      "bgcolor": "white",
                      "lakecolor": "white",
                      "landcolor": "#E5ECF6",
                      "showlakes": true,
                      "showland": true,
                      "subunitcolor": "white"
                    },
                    "hoverlabel": {
                      "align": "left"
                    },
                    "hovermode": "closest",
                    "mapbox": {
                      "style": "light"
                    },
                    "paper_bgcolor": "white",
                    "plot_bgcolor": "#E5ECF6",
                    "polar": {
                      "angularaxis": {
                        "gridcolor": "white",
                        "linecolor": "white",
                        "ticks": ""
                      },
                      "bgcolor": "#E5ECF6",
                      "radialaxis": {
                        "gridcolor": "white",
                        "linecolor": "white",
                        "ticks": ""
                      }
                    },
                    "scene": {
                      "xaxis": {
                        "backgroundcolor": "#E5ECF6",
                        "gridcolor": "white",
                        "gridwidth": 2,
                        "linecolor": "white",
                        "showbackground": true,
                        "ticks": "",
                        "zerolinecolor": "white"
                      },
                      "yaxis": {
                        "backgroundcolor": "#E5ECF6",
                        "gridcolor": "white",
                        "gridwidth": 2,
                        "linecolor": "white",
                        "showbackground": true,
                        "ticks": "",
                        "zerolinecolor": "white"
                      },
                      "zaxis": {
                        "backgroundcolor": "#E5ECF6",
                        "gridcolor": "white",
                        "gridwidth": 2,
                        "linecolor": "white",
                        "showbackground": true,
                        "ticks": "",
                        "zerolinecolor": "white"
                      }
                    },
                    "shapedefaults": {
                      "line": {
                        "color": "#2a3f5f"
                      }
                    },
                    "ternary": {
                      "aaxis": {
                        "gridcolor": "white",
                        "linecolor": "white",
                        "ticks": ""
                      },
                      "baxis": {
                        "gridcolor": "white",
                        "linecolor": "white",
                        "ticks": ""
                      },
                      "bgcolor": "#E5ECF6",
                      "caxis": {
                        "gridcolor": "white",
                        "linecolor": "white",
                        "ticks": ""
                      }
                    },
                    "title": {
                      "x": 0.05
                    },
                    "xaxis": {
                      "automargin": true,
                      "gridcolor": "white",
                      "linecolor": "white",
                      "ticks": "",
                      "title": {
                        "standoff": 15
                      },
                      "zerolinecolor": "white",
                      "zerolinewidth": 2
                    },
                    "yaxis": {
                      "automargin": true,
                      "gridcolor": "white",
                      "linecolor": "white",
                      "ticks": "",
                      "title": {
                        "standoff": 15
                      },
                      "zerolinecolor": "white",
                      "zerolinewidth": 2
                    }
                  }
                },
                "xaxis": {
                  "anchor": "y",
                  "domain": [
                    0,
                    0.45
                  ]
                },
                "xaxis2": {
                  "anchor": "y2",
                  "domain": [
                    0.55,
                    1
                  ]
                },
                "yaxis": {
                  "anchor": "x",
                  "domain": [
                    0,
                    1
                  ],
                  "ticksuffix": "€"
                },
                "yaxis2": {
                  "anchor": "x2",
                  "domain": [
                    0,
                    1
                  ],
                  "ticksuffix": "€"
                }
              }
            }
          },
          "metadata": {}
        }
      ],
      "source": [
        "from plotly.subplots import make_subplots\n",
        "import plotly.graph_objects as go\n",
        "\n",
        "labels = ['Material', 'Density <br> (kg/m^3)', 'E <br> (N/mm)', 'G <br> (N/mm)', 'Permisible <br> Shear Stress <br> (MPa)', 'Cost <br> (€/kg)']\n",
        "values = []\n",
        "\n",
        "materials_skin = []\n",
        "costs_skin = []\n",
        "for mat in skin_materials.items():\n",
        "    values.append([\n",
        "        mat[0].name,\n",
        "        mat[1].rho,\n",
        "        mat[1].Ef * 1e-6,\n",
        "        '-',\n",
        "        mat[1].tau_af * 1e-6,\n",
        "        mat[1].Cost\n",
        "    ])\n",
        "    materials_skin.append(mat[0].name)\n",
        "    costs_skin.append(mat[1].Cost * mat[1].rho)\n",
        "\n",
        "materials_core = []\n",
        "costs_core = []\n",
        "for mat in core_materials.items():\n",
        "    values.append([\n",
        "        mat[0].name,\n",
        "        mat[1].rho,\n",
        "        mat[1].Ec * 1e-6,\n",
        "        mat[1].Gc * 1e-6,\n",
        "        round(mat[1].tau_ac * 1e-6, 2),\n",
        "        mat[1].Cost\n",
        "    ])\n",
        "    materials_core.append(mat[0].name)\n",
        "    costs_core.append(mat[1].Cost * mat[1].rho)\n",
        "values = list(map(list, zip(*values)))\n",
        "\n",
        "fig = go.Figure(data=[ go.Table(\n",
        "    header=dict(\n",
        "        values=labels,\n",
        "        font=dict(size=10),\n",
        "        align=\"center\"\n",
        "        ), \n",
        "    cells=dict(\n",
        "        values=values,\n",
        "        align=\"left\"\n",
        "        ))])\n",
        "fig.show()\n",
        "\n",
        "fig = make_subplots(rows=1, cols=2, subplot_titles=(\"Core Materials (cost per m^3)\", \"Skin Materials (cost per m^3)\"))\n",
        "\n",
        "fig.add_trace(go.Bar(x=materials_core, y=costs_core), row=1, col=1)\n",
        "fig.add_trace(go.Bar(x=materials_skin, y=costs_skin), row=1, col=2)\n",
        "fig.update_yaxes(row=1, col=1, ticksuffix='€')\n",
        "fig.update_yaxes(row=1, col=2, ticksuffix='€')\n",
        "fig.update_layout(coloraxis=dict(colorscale='Bluered_r'), showlegend=False)\n",
        "fig.show()"
      ]
    },
    {
      "cell_type": "markdown",
      "metadata": {},
      "source": [
        "## Calculele de simulare\n",
        "\n",
        "Vom continua prin a implementa formulele de calcul din modelul matematic.  \n",
        "\n",
        "- Forța aplicată: $P = m a$;\n",
        "- Deformarea maximă admisă: $W_m = \\frac{P}{k_n}$;\n",
        "- Tensunea de forfecare maximă admisă în înveliș (cu safety factor): $\\tau_{af} = \\frac{\\tau_{af}}{s_f}$;\n",
        "- Tensiunea de forfecare maximă admisă în miez (cu safety factor): $\\tau_{ac} = \\frac{\\tau_{ac}}{s_f}$;\n",
        "- Volumul învelișului: $V_f = 2t_f \\cdot L \\cdot b$;\n",
        "- Volumul miezului: $V_c = t_c \\cdot L \\cdot b$;\n",
        "- Costul total: $Cost = V_f \\cdot \\rho_f \\cdot Cost_f + V_c \\cdot \\rho_c \\cdot Cost_c$;\n",
        "- Grosimea totală: $ d = 2t_f + t_c $;\n",
        "- Rigiditatea la încovoiere din grindă: $ D = \\frac{1}{2}E_f \\cdot t_f \\cdot d^2 \\cdot b$;\n",
        "- Rigiditatea la forfecare din grindă: $ S = \\frac{1}{t_c} G_c \\cdot d^2 $ ;\n",
        "- Deformarea reală: $ W = \\frac{P \\cdot L^3}{3D} + \\frac{P \\cdot L}{S} $;\n",
        "- Tensiunea maximă de forfecare din înveliș: $ \\tau_f = \\frac{P}{D} \\frac{E_f}{2} \\cdot (\\frac{t_c}{2} + t_f)^2 - L^2 $;\n",
        "- Tensiunea maximă de forfecare din miez: $ \\tau_c = \\frac{P}{D} [ \\frac{E_c}{2} (\\frac{t_c}{2}^2 - L^2) + \\frac{E_f}{2}(t_f \\cdot t_c + t_f^2) ]$;\n",
        "- Masa totală: $ M_t = V_f \\cdot \\rho_f + V_c \\cdot \\rho_c $\n",
        "\n"
      ]
    },
    {
      "cell_type": "code",
      "execution_count": 7,
      "metadata": {},
      "outputs": [],
      "source": [
        "class Result:\n",
        "    def __init__(self, simulation):\n",
        "        self.simulation = simulation\n",
        "\n",
        "    def Solve(self):\n",
        "        simulation = self.simulation\n",
        "\n",
        "        # Gather all the input variables to make the formulas look nice\n",
        "        m = simulation.m\n",
        "        a = simulation.a\n",
        "        sf = simulation.sf\n",
        "        km = simulation.km\n",
        "        tau_af = simulation.model.SkinMat.tau_af\n",
        "        tau_ac = simulation.model.CoreMat.tau_ac\n",
        "        L = simulation.model.L\n",
        "        b = simulation.model.b\n",
        "        tf = simulation.model.tf\n",
        "        tc = simulation.model.tc\n",
        "        Ef = simulation.model.SkinMat.Ef\n",
        "        Ec = simulation.model.CoreMat.Ec\n",
        "        Gc = simulation.model.CoreMat.Gc\n",
        "        rho_f = simulation.model.SkinMat.rho\n",
        "        rho_c = simulation.model.CoreMat.rho\n",
        "        cost_f = simulation.model.SkinMat.Cost\n",
        "        cost_c = simulation.model.CoreMat.Cost\n",
        "\n",
        "        # Now solve all the equations described above and store in data memebers the values we're interested in\n",
        "        P = m*a\n",
        "        Wm = P/km\n",
        "        tau_af = tau_af / sf\n",
        "        tau_ac = tau_ac / sf\n",
        "        Vf = 2*tf * L *b\n",
        "        Vc = tc * L * b\n",
        "        Cost = Vf * rho_f * cost_f + Vc * rho_c * cost_c\n",
        "        d = 2*tf+tc\n",
        "        D = (Ef * tf * d**2 / 2)*b\n",
        "        S = (1/tc) * Gc * d**2\n",
        "        W = (P*L**3)/(3*D) + (P*L)/S\n",
        "        tau_f = (P/D)*(Ef/2)*(tc/2 + tf)**2\n",
        "        tau_c = (P/D)*( Ec/2 * ((tc**2)/2) + Ef/2 * (tf*tc + tf**2) )\n",
        "        Mt = Vf * rho_f + Vc * rho_c\n",
        "\n",
        "        # Store the values we're interested in\n",
        "        self.W = W\n",
        "        self.Wm = Wm\n",
        "\n",
        "        self.tau_af = tau_af\n",
        "        self.tau_f = tau_f\n",
        "        self.tau_ac = tau_ac\n",
        "        self.tau_c = tau_c\n",
        "\n",
        "        self.Cost = Cost\n",
        "        self.Mt = Mt"
      ]
    },
    {
      "cell_type": "markdown",
      "metadata": {},
      "source": [
        "Înainte de a continua cu explorarea posibilelor combinații vom rula o primă simulare cu valori aleator alese pe care vom intenționa să o și corelăm.\n",
        "\n",
        "## Corelarea\n",
        "\n",
        "Vom alege să rulăm o simulare pentru o grindă cu următorii parametrii:\n",
        "- Lungime de 4 m;\n",
        "- Grosime miez de 70 cm;\n",
        "- Grosime înveliș de 1mm;\n",
        "- Înveliș din oțel și miez din Divinycell H60.\n"
      ]
    },
    {
      "cell_type": "code",
      "execution_count": 18,
      "metadata": {},
      "outputs": [
        {
          "output_type": "display_data",
          "data": {
            "application/vnd.plotly.v1+json": {
              "config": {
                "plotlyServerURL": "https://plot.ly"
              },
              "data": [
                {
                  "cells": {
                    "values": [
                      "DivinycellH60",
                      "Steel",
                      "122.07 mm",
                      "295.02 mm",
                      "0.04 MPa",
                      "0.12 MPa",
                      "0.74 MPa",
                      "60.00 MPa",
                      "39.60 kg",
                      "62.88 €"
                    ]
                  },
                  "columnwidth": [
                    160,
                    400
                  ],
                  "header": {
                    "align": [
                      "left",
                      "center"
                    ],
                    "values": [
                      "Core Material",
                      "Skin Material",
                      "Displacement",
                      "Admissable Displacement",
                      "Core Stress",
                      "Admissable Core Stress",
                      "Shell Stress",
                      "Admissable Shell Stress",
                      "Mass",
                      "Cost"
                    ]
                  },
                  "type": "table"
                }
              ],
              "layout": {
                "template": {
                  "data": {
                    "bar": [
                      {
                        "error_x": {
                          "color": "#2a3f5f"
                        },
                        "error_y": {
                          "color": "#2a3f5f"
                        },
                        "marker": {
                          "line": {
                            "color": "#E5ECF6",
                            "width": 0.5
                          }
                        },
                        "type": "bar"
                      }
                    ],
                    "barpolar": [
                      {
                        "marker": {
                          "line": {
                            "color": "#E5ECF6",
                            "width": 0.5
                          }
                        },
                        "type": "barpolar"
                      }
                    ],
                    "carpet": [
                      {
                        "aaxis": {
                          "endlinecolor": "#2a3f5f",
                          "gridcolor": "white",
                          "linecolor": "white",
                          "minorgridcolor": "white",
                          "startlinecolor": "#2a3f5f"
                        },
                        "baxis": {
                          "endlinecolor": "#2a3f5f",
                          "gridcolor": "white",
                          "linecolor": "white",
                          "minorgridcolor": "white",
                          "startlinecolor": "#2a3f5f"
                        },
                        "type": "carpet"
                      }
                    ],
                    "choropleth": [
                      {
                        "colorbar": {
                          "outlinewidth": 0,
                          "ticks": ""
                        },
                        "type": "choropleth"
                      }
                    ],
                    "contour": [
                      {
                        "colorbar": {
                          "outlinewidth": 0,
                          "ticks": ""
                        },
                        "colorscale": [
                          [
                            0,
                            "#0d0887"
                          ],
                          [
                            0.1111111111111111,
                            "#46039f"
                          ],
                          [
                            0.2222222222222222,
                            "#7201a8"
                          ],
                          [
                            0.3333333333333333,
                            "#9c179e"
                          ],
                          [
                            0.4444444444444444,
                            "#bd3786"
                          ],
                          [
                            0.5555555555555556,
                            "#d8576b"
                          ],
                          [
                            0.6666666666666666,
                            "#ed7953"
                          ],
                          [
                            0.7777777777777778,
                            "#fb9f3a"
                          ],
                          [
                            0.8888888888888888,
                            "#fdca26"
                          ],
                          [
                            1,
                            "#f0f921"
                          ]
                        ],
                        "type": "contour"
                      }
                    ],
                    "contourcarpet": [
                      {
                        "colorbar": {
                          "outlinewidth": 0,
                          "ticks": ""
                        },
                        "type": "contourcarpet"
                      }
                    ],
                    "heatmap": [
                      {
                        "colorbar": {
                          "outlinewidth": 0,
                          "ticks": ""
                        },
                        "colorscale": [
                          [
                            0,
                            "#0d0887"
                          ],
                          [
                            0.1111111111111111,
                            "#46039f"
                          ],
                          [
                            0.2222222222222222,
                            "#7201a8"
                          ],
                          [
                            0.3333333333333333,
                            "#9c179e"
                          ],
                          [
                            0.4444444444444444,
                            "#bd3786"
                          ],
                          [
                            0.5555555555555556,
                            "#d8576b"
                          ],
                          [
                            0.6666666666666666,
                            "#ed7953"
                          ],
                          [
                            0.7777777777777778,
                            "#fb9f3a"
                          ],
                          [
                            0.8888888888888888,
                            "#fdca26"
                          ],
                          [
                            1,
                            "#f0f921"
                          ]
                        ],
                        "type": "heatmap"
                      }
                    ],
                    "heatmapgl": [
                      {
                        "colorbar": {
                          "outlinewidth": 0,
                          "ticks": ""
                        },
                        "colorscale": [
                          [
                            0,
                            "#0d0887"
                          ],
                          [
                            0.1111111111111111,
                            "#46039f"
                          ],
                          [
                            0.2222222222222222,
                            "#7201a8"
                          ],
                          [
                            0.3333333333333333,
                            "#9c179e"
                          ],
                          [
                            0.4444444444444444,
                            "#bd3786"
                          ],
                          [
                            0.5555555555555556,
                            "#d8576b"
                          ],
                          [
                            0.6666666666666666,
                            "#ed7953"
                          ],
                          [
                            0.7777777777777778,
                            "#fb9f3a"
                          ],
                          [
                            0.8888888888888888,
                            "#fdca26"
                          ],
                          [
                            1,
                            "#f0f921"
                          ]
                        ],
                        "type": "heatmapgl"
                      }
                    ],
                    "histogram": [
                      {
                        "marker": {
                          "colorbar": {
                            "outlinewidth": 0,
                            "ticks": ""
                          }
                        },
                        "type": "histogram"
                      }
                    ],
                    "histogram2d": [
                      {
                        "colorbar": {
                          "outlinewidth": 0,
                          "ticks": ""
                        },
                        "colorscale": [
                          [
                            0,
                            "#0d0887"
                          ],
                          [
                            0.1111111111111111,
                            "#46039f"
                          ],
                          [
                            0.2222222222222222,
                            "#7201a8"
                          ],
                          [
                            0.3333333333333333,
                            "#9c179e"
                          ],
                          [
                            0.4444444444444444,
                            "#bd3786"
                          ],
                          [
                            0.5555555555555556,
                            "#d8576b"
                          ],
                          [
                            0.6666666666666666,
                            "#ed7953"
                          ],
                          [
                            0.7777777777777778,
                            "#fb9f3a"
                          ],
                          [
                            0.8888888888888888,
                            "#fdca26"
                          ],
                          [
                            1,
                            "#f0f921"
                          ]
                        ],
                        "type": "histogram2d"
                      }
                    ],
                    "histogram2dcontour": [
                      {
                        "colorbar": {
                          "outlinewidth": 0,
                          "ticks": ""
                        },
                        "colorscale": [
                          [
                            0,
                            "#0d0887"
                          ],
                          [
                            0.1111111111111111,
                            "#46039f"
                          ],
                          [
                            0.2222222222222222,
                            "#7201a8"
                          ],
                          [
                            0.3333333333333333,
                            "#9c179e"
                          ],
                          [
                            0.4444444444444444,
                            "#bd3786"
                          ],
                          [
                            0.5555555555555556,
                            "#d8576b"
                          ],
                          [
                            0.6666666666666666,
                            "#ed7953"
                          ],
                          [
                            0.7777777777777778,
                            "#fb9f3a"
                          ],
                          [
                            0.8888888888888888,
                            "#fdca26"
                          ],
                          [
                            1,
                            "#f0f921"
                          ]
                        ],
                        "type": "histogram2dcontour"
                      }
                    ],
                    "mesh3d": [
                      {
                        "colorbar": {
                          "outlinewidth": 0,
                          "ticks": ""
                        },
                        "type": "mesh3d"
                      }
                    ],
                    "parcoords": [
                      {
                        "line": {
                          "colorbar": {
                            "outlinewidth": 0,
                            "ticks": ""
                          }
                        },
                        "type": "parcoords"
                      }
                    ],
                    "pie": [
                      {
                        "automargin": true,
                        "type": "pie"
                      }
                    ],
                    "scatter": [
                      {
                        "marker": {
                          "colorbar": {
                            "outlinewidth": 0,
                            "ticks": ""
                          }
                        },
                        "type": "scatter"
                      }
                    ],
                    "scatter3d": [
                      {
                        "line": {
                          "colorbar": {
                            "outlinewidth": 0,
                            "ticks": ""
                          }
                        },
                        "marker": {
                          "colorbar": {
                            "outlinewidth": 0,
                            "ticks": ""
                          }
                        },
                        "type": "scatter3d"
                      }
                    ],
                    "scattercarpet": [
                      {
                        "marker": {
                          "colorbar": {
                            "outlinewidth": 0,
                            "ticks": ""
                          }
                        },
                        "type": "scattercarpet"
                      }
                    ],
                    "scattergeo": [
                      {
                        "marker": {
                          "colorbar": {
                            "outlinewidth": 0,
                            "ticks": ""
                          }
                        },
                        "type": "scattergeo"
                      }
                    ],
                    "scattergl": [
                      {
                        "marker": {
                          "colorbar": {
                            "outlinewidth": 0,
                            "ticks": ""
                          }
                        },
                        "type": "scattergl"
                      }
                    ],
                    "scattermapbox": [
                      {
                        "marker": {
                          "colorbar": {
                            "outlinewidth": 0,
                            "ticks": ""
                          }
                        },
                        "type": "scattermapbox"
                      }
                    ],
                    "scatterpolar": [
                      {
                        "marker": {
                          "colorbar": {
                            "outlinewidth": 0,
                            "ticks": ""
                          }
                        },
                        "type": "scatterpolar"
                      }
                    ],
                    "scatterpolargl": [
                      {
                        "marker": {
                          "colorbar": {
                            "outlinewidth": 0,
                            "ticks": ""
                          }
                        },
                        "type": "scatterpolargl"
                      }
                    ],
                    "scatterternary": [
                      {
                        "marker": {
                          "colorbar": {
                            "outlinewidth": 0,
                            "ticks": ""
                          }
                        },
                        "type": "scatterternary"
                      }
                    ],
                    "surface": [
                      {
                        "colorbar": {
                          "outlinewidth": 0,
                          "ticks": ""
                        },
                        "colorscale": [
                          [
                            0,
                            "#0d0887"
                          ],
                          [
                            0.1111111111111111,
                            "#46039f"
                          ],
                          [
                            0.2222222222222222,
                            "#7201a8"
                          ],
                          [
                            0.3333333333333333,
                            "#9c179e"
                          ],
                          [
                            0.4444444444444444,
                            "#bd3786"
                          ],
                          [
                            0.5555555555555556,
                            "#d8576b"
                          ],
                          [
                            0.6666666666666666,
                            "#ed7953"
                          ],
                          [
                            0.7777777777777778,
                            "#fb9f3a"
                          ],
                          [
                            0.8888888888888888,
                            "#fdca26"
                          ],
                          [
                            1,
                            "#f0f921"
                          ]
                        ],
                        "type": "surface"
                      }
                    ],
                    "table": [
                      {
                        "cells": {
                          "fill": {
                            "color": "#EBF0F8"
                          },
                          "line": {
                            "color": "white"
                          }
                        },
                        "header": {
                          "fill": {
                            "color": "#C8D4E3"
                          },
                          "line": {
                            "color": "white"
                          }
                        },
                        "type": "table"
                      }
                    ]
                  },
                  "layout": {
                    "annotationdefaults": {
                      "arrowcolor": "#2a3f5f",
                      "arrowhead": 0,
                      "arrowwidth": 1
                    },
                    "coloraxis": {
                      "colorbar": {
                        "outlinewidth": 0,
                        "ticks": ""
                      }
                    },
                    "colorscale": {
                      "diverging": [
                        [
                          0,
                          "#8e0152"
                        ],
                        [
                          0.1,
                          "#c51b7d"
                        ],
                        [
                          0.2,
                          "#de77ae"
                        ],
                        [
                          0.3,
                          "#f1b6da"
                        ],
                        [
                          0.4,
                          "#fde0ef"
                        ],
                        [
                          0.5,
                          "#f7f7f7"
                        ],
                        [
                          0.6,
                          "#e6f5d0"
                        ],
                        [
                          0.7,
                          "#b8e186"
                        ],
                        [
                          0.8,
                          "#7fbc41"
                        ],
                        [
                          0.9,
                          "#4d9221"
                        ],
                        [
                          1,
                          "#276419"
                        ]
                      ],
                      "sequential": [
                        [
                          0,
                          "#0d0887"
                        ],
                        [
                          0.1111111111111111,
                          "#46039f"
                        ],
                        [
                          0.2222222222222222,
                          "#7201a8"
                        ],
                        [
                          0.3333333333333333,
                          "#9c179e"
                        ],
                        [
                          0.4444444444444444,
                          "#bd3786"
                        ],
                        [
                          0.5555555555555556,
                          "#d8576b"
                        ],
                        [
                          0.6666666666666666,
                          "#ed7953"
                        ],
                        [
                          0.7777777777777778,
                          "#fb9f3a"
                        ],
                        [
                          0.8888888888888888,
                          "#fdca26"
                        ],
                        [
                          1,
                          "#f0f921"
                        ]
                      ],
                      "sequentialminus": [
                        [
                          0,
                          "#0d0887"
                        ],
                        [
                          0.1111111111111111,
                          "#46039f"
                        ],
                        [
                          0.2222222222222222,
                          "#7201a8"
                        ],
                        [
                          0.3333333333333333,
                          "#9c179e"
                        ],
                        [
                          0.4444444444444444,
                          "#bd3786"
                        ],
                        [
                          0.5555555555555556,
                          "#d8576b"
                        ],
                        [
                          0.6666666666666666,
                          "#ed7953"
                        ],
                        [
                          0.7777777777777778,
                          "#fb9f3a"
                        ],
                        [
                          0.8888888888888888,
                          "#fdca26"
                        ],
                        [
                          1,
                          "#f0f921"
                        ]
                      ]
                    },
                    "colorway": [
                      "#636efa",
                      "#EF553B",
                      "#00cc96",
                      "#ab63fa",
                      "#FFA15A",
                      "#19d3f3",
                      "#FF6692",
                      "#B6E880",
                      "#FF97FF",
                      "#FECB52"
                    ],
                    "font": {
                      "color": "#2a3f5f"
                    },
                    "geo": {
                      "bgcolor": "white",
                      "lakecolor": "white",
                      "landcolor": "#E5ECF6",
                      "showlakes": true,
                      "showland": true,
                      "subunitcolor": "white"
                    },
                    "hoverlabel": {
                      "align": "left"
                    },
                    "hovermode": "closest",
                    "mapbox": {
                      "style": "light"
                    },
                    "paper_bgcolor": "white",
                    "plot_bgcolor": "#E5ECF6",
                    "polar": {
                      "angularaxis": {
                        "gridcolor": "white",
                        "linecolor": "white",
                        "ticks": ""
                      },
                      "bgcolor": "#E5ECF6",
                      "radialaxis": {
                        "gridcolor": "white",
                        "linecolor": "white",
                        "ticks": ""
                      }
                    },
                    "scene": {
                      "xaxis": {
                        "backgroundcolor": "#E5ECF6",
                        "gridcolor": "white",
                        "gridwidth": 2,
                        "linecolor": "white",
                        "showbackground": true,
                        "ticks": "",
                        "zerolinecolor": "white"
                      },
                      "yaxis": {
                        "backgroundcolor": "#E5ECF6",
                        "gridcolor": "white",
                        "gridwidth": 2,
                        "linecolor": "white",
                        "showbackground": true,
                        "ticks": "",
                        "zerolinecolor": "white"
                      },
                      "zaxis": {
                        "backgroundcolor": "#E5ECF6",
                        "gridcolor": "white",
                        "gridwidth": 2,
                        "linecolor": "white",
                        "showbackground": true,
                        "ticks": "",
                        "zerolinecolor": "white"
                      }
                    },
                    "shapedefaults": {
                      "line": {
                        "color": "#2a3f5f"
                      }
                    },
                    "ternary": {
                      "aaxis": {
                        "gridcolor": "white",
                        "linecolor": "white",
                        "ticks": ""
                      },
                      "baxis": {
                        "gridcolor": "white",
                        "linecolor": "white",
                        "ticks": ""
                      },
                      "bgcolor": "#E5ECF6",
                      "caxis": {
                        "gridcolor": "white",
                        "linecolor": "white",
                        "ticks": ""
                      }
                    },
                    "title": {
                      "x": 0.05
                    },
                    "xaxis": {
                      "automargin": true,
                      "gridcolor": "white",
                      "linecolor": "white",
                      "ticks": "",
                      "title": {
                        "standoff": 15
                      },
                      "zerolinecolor": "white",
                      "zerolinewidth": 2
                    },
                    "yaxis": {
                      "automargin": true,
                      "gridcolor": "white",
                      "linecolor": "white",
                      "ticks": "",
                      "title": {
                        "standoff": 15
                      },
                      "zerolinecolor": "white",
                      "zerolinewidth": 2
                    }
                  }
                }
              }
            }
          },
          "metadata": {}
        }
      ],
      "source": [
        "def RunAndPrintSimulation(tf, tc, L, skinMat, coreMat):\n",
        "    b = 500*1e-3  # this is hardcoded and will remain at 500mm\n",
        "\n",
        "    model = BeamModel(L, b, tf, tc, skinMat, coreMat)\n",
        "\n",
        "    m = 150    # kg - this is fixed\n",
        "    a = 9.834  # m/s^2 - we would need to have higher accelerations to account for jumps\n",
        "    km = 5000  # N/m - fixed\n",
        "    sf = 5     # if too expensive, make this smaller :-)\n",
        "\n",
        "    simulation = BeamSimulation(m, a, km, model, sf)\n",
        "\n",
        "    res = Result(simulation)\n",
        "    res.Solve()\n",
        "\n",
        "    labels = []\n",
        "    values = []\n",
        "\n",
        "    labels.append(\"Core Material\")\n",
        "    values.append(CoreMaterials.DivinycellH60.name)\n",
        "\n",
        "    labels.append(\"Skin Material\")\n",
        "    values.append(SkinMaterials.Steel.name)\n",
        "\n",
        "    labels.append(\"Displacement\")\n",
        "    values.append(\"{:.2f} mm\".format(res.W * 1e3))\n",
        "\n",
        "    labels.append(\"Admissable Displacement\")\n",
        "    values.append(\"{:.2f} mm\".format(res.Wm * 1e3))\n",
        "\n",
        "    labels.append(\"Core Stress\")\n",
        "    values.append(\"{:.2f} MPa\".format(res.tau_c * 1e-6))\n",
        "\n",
        "    labels.append(\"Admissable Core Stress\")\n",
        "    values.append(\"{:.2f} MPa\".format(res.tau_ac * 1e-6))\n",
        "\n",
        "    labels.append(\"Shell Stress\")\n",
        "    values.append(\"{:.2f} MPa\".format(res.tau_f * 1e-6))\n",
        "\n",
        "    labels.append(\"Admissable Shell Stress\")\n",
        "    values.append(\"{:.2f} MPa\".format(res.tau_af * 1e-6))\n",
        "\n",
        "    labels.append(\"Mass\")\n",
        "    values.append(\"{:.2f} kg\".format(res.Mt))\n",
        "\n",
        "    labels.append(\"Cost\")\n",
        "    values.append(\"{:.2f} €\".format(res.Cost))\n",
        "\n",
        "    fig = go.Figure(\n",
        "        data=[go.Table( columnwidth=[160, 400],\n",
        "            header=dict(values=labels, align=['left', 'center']), \n",
        "            cells=dict(values=values)\n",
        "            )],\n",
        "        )\n",
        "    fig.show()\n",
        "\n",
        "tf = 1*1e-3   # shell of 1 mm\n",
        "tc = 70*1e-3  # core of 7 cmm\n",
        "L = 4         # can vary between 1 and 4 meters; let's go with 4 for now\n",
        "skinMat = skin_materials[SkinMaterials.Steel]\n",
        "coreMat = core_materials[CoreMaterials.DivinycellH60]\n",
        "\n",
        "RunAndPrintSimulation(tf, tc, L, skinMat, coreMat)\n"
      ]
    },
    {
      "cell_type": "markdown",
      "metadata": {},
      "source": [
        "### Modelul cu element finit\n",
        "\n",
        "Pentru cazul mai sus ales vom crea un model cu element finit pentru a corela rezultatul obținut.  \n",
        "Partea de CAD este trivială pentru cazul de grindă, modelăm miezul ca un solid:\n",
        "![miez](img/miez_cad.png)  \n",
        "Pentru înveliș vom face modelarea folosind 2 suprafețe:\n",
        "![invelis](img/invelis_cad.png)  \n",
        "\n",
        "La discretizare, deoarece vom folosi o soluție liniară, pentru a putea captura totuși reduce eroarea și a captura comportamentul parabolic al modelului optăm pentru elemtene parabolice TETRA în partea de solid și elemente parabolice TRIA în partea de suprafețe:  \n",
        "![mesh](img/mesh.png)\n",
        "\n",
        "În total avem aproximativ ~638k de elemente pentru miez și 80k de elemente pentru înveliș.  \n",
        "Materialul pentru înveliș îl definim ca oțel (isotropic) însă pentru miez vom defini materialul ca orthotropic cu module de elasticitate diferite pentru axa +X respectiv +Y. Axa +Z al materialului poate fi ignorată.  \n",
        "\n",
        "Pentru modelul de simulare folosim Flex Glue între înveliș și miez, încastrăm complet unul din capete (doar pe înveliș) și punem o forță egală cu masa * accelerația la capătul liber:  \n",
        "![sim](img/sim.png)\n",
        "\n",
        "Folosim NASTRAN SOL101 - Static Linear pentru obținerea deformațiilor:\n",
        "\n",
        "![sim](img/displacement.png)\n",
        "\n",
        "Un lucru interesant este distribuția stresului Von-Mises pentru această simulare:\n",
        "\n",
        "![stress](img/stress.png).\n",
        "\n",
        "În concluzie, analiza cu element finit a rezultat în valori apropiate de cele calculate analitic: 133 mm față de 122 mm. Diferența poate fi explicată de aproximările făcute atât în analiza cu element finit cât și în modelul matematic. O simulare mai bună ar include modificarea condiților la limită astfel încât să acopere realist utilizarea unei astfel de trambuline (ex: încastrarea să fie făcută pe modul de prindere, forța distribuită pe o suprafață mai mare a grinzii etc)."
      ]
    },
    {
      "cell_type": "markdown",
      "metadata": {},
      "source": [
        "## Căutarea ghidată în spațiul de soluții\n",
        "\n",
        "Dorim să găsim o soluție pentru care masa este cea mai mică. Aici avem nevoie de definirea riguroasă a spațiului de căutare. Identificăm 5 dimensiuni în spațiul de căutare pentru care definim următoarele limite:\n",
        "\n",
        "1. Materialul de miez: unul din cele 4 posibile;\n",
        "2. Materialul de înveliș: unul din cele 4 posibile;\n",
        "3. Lungimea grinzii: între 1 și 4 metri;\n",
        "4. Grosimea miezului: între 10 și 100 de mm;\n",
        "5. Grosimea învelișului: între 0.1 și 10 mm;\n",
        "\n",
        "Căutarea în spațiul soluțiilor se va face folosind un algoritm de tip *particle swarm optimization*. Funcționarea algoritmului este destul de simplistă dar este un algoritm care poate găsi maximele globale chiar și atunci când nu există corelare lineară între dimensiunile spațiului și dimensiunea soluțiilor.\n",
        "\n",
        "Funcționarea algoritmului, pe scurt, presupune crearea unei colonii (ne putem imagina furnici) la puncte aleatoare din spațiul de căutare (de regulă de pe marginile sale) și setarea unor reguli care să guverneze comportamentul coloniei. Fiecare individ este recompensat folosind o funcție de cost pe măsură ce se apropie de soluția dorită (în cazul nostru, minimum de masă). De asemenea fiecare individ este recompensat cu cât este mai aproape de individul care a găsit cea mai bună soluție. Asta generează un comportament de \"swarm\" unde indivizii vor căuta în jurul celei mai bune soluții găsite. \n",
        "\n",
        "Pentru a nu forța însă algoritmul să conveargă prea repede există și un factor care determine unii indivizi să caute diferit de restul coloniei. Când unul din aceștia găsesc o soluție mai bună majoritatea coloniei tinde spre noul punct, efectiv căutând soluții la fiecare pas. \n",
        "\n",
        "Algortmul este implementat în python însă din considerente de performanță (2-5 minute o rulare pe 12 core-uri) dar și limitări tehnice ale acestui document, rulările de căutare au fost efectuate separat. \n",
        "\n",
        "Căutarea a fost efectuată cu scopul de a reduce masa dar a fost impusă o penalizare severă pentru costuri care trec de 200€ sau depășirea limitelor mecanice impuse. "
      ]
    }
  ],
  "metadata": {
    "colab": {
      "name": "Structuri Ușoare - Grindă.ipynb",
      "provenance": [],
      "collapsed_sections": [],
      "authorship_tag": "ABX9TyM4HVci3uyEvu+Z6gA8cWgq",
      "include_colab_link": true
    },
    "kernelspec": {
      "name": "python3",
      "display_name": "Python 3"
    }
  },
  "nbformat": 4,
  "nbformat_minor": 0
}