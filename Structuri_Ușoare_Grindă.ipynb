{
  "cells": [
    {
      "cell_type": "markdown",
      "metadata": {
        "id": "view-in-github",
        "colab_type": "text"
      },
      "source": [
        "<a href=\"https://colab.research.google.com/github/W-Sebastian/JupyterNotebooks/blob/master/Structuri_U%C8%99oare_Grind%C4%83.ipynb\" target=\"_parent\"><img src=\"https://colab.research.google.com/assets/colab-badge.svg\" alt=\"Open In Colab\"/></a>"
      ]
    },
    {
      "cell_type": "markdown",
      "metadata": {
        "colab_type": "text",
        "id": "lr07asXxYd6M"
      },
      "source": [
        "# Analiza grindei sandwich: studiu de caz pentru o trambulină\n",
        "\n",
        "## Introducere\n",
        "\n",
        "## Definirea problemei\n",
        "\n",
        "Se propune pentru analiză studiul asupra unei trambuline de piscină de tip structură sandwich. Plecăm de la următoarea schiță:\n",
        "![schita trambulina](img/schita.png)\n",
        "\n",
        "Modelul are următoarele constrângeri:\n",
        "- Materialele folosite pentru înveliș respectic miez sunt date;\n",
        "- Lungimea grinzii trebuie să fie între 1 și 4 metri;\n",
        "- Se impune o rigiditate a grinzii de maxim 5 N/mm;\n",
        "- Un capăt de grindă este considerat încastrat;\n",
        "- Capătul liber are o condiție la limită definită prin masă de 150 Kg și accelerație de 9.834 m/s^2;\n",
        "- Lățimea grinzii este de 500 mm;\n",
        "- Factorul de siguranță pentru calculul tensiunilor este 5;\n",
        "- Costul materialelor pentru construcția grinzii nu trebuie să depășească 200€; prețul pentru fiecare material este dar în €/Kg.\n",
        "\n",
        "Se propune alegerea materialelor pentru înveliș și miez și alegerea lungimii respectiv a grosimii miezului și învelișului astfel încât:\n",
        "- Să nu se treacă de costul impus;\n",
        "- Să se reducă masa cât mai mult.\n",
        "\n",
        "Din datele problemei ne vom propune următoarele obiective:\n",
        "- Definirea modelelor analitice de calcul;\n",
        "- Corelarea rezultatelor analitice cu o analiză de element finit;\n",
        "- Găsirea combinației care ne oferă cea mai mică masă respectând limitările date;\n",
        "- Adițional vom explora și găsirea celui mai mic preț care să respecte limitările date;\n",
        "\n",
        "## Considerente limitative\n",
        "\n",
        "- Toate valorile din document sunt ținute în MKS (meter/kilogram/second) pentru a păsta uniformitatea calculelor și a reduce potențiale probleme legate de conversia de unit-uri. Conversile din alte unităti (mm, MPa) sunt făcut înainte sau după calculele propriu-zise. Pentru presiuni vom folosi unitatea Pa.\n",
        "- Se consideră în calcule o grindă cu înveliș exterior aplicat doar deasupra și sub grindă, fără a modela marginile ei deoarece le vom considera neglijabile;\n",
        "- Pe cât posibil se vor folosi abrevierile din formule pentru concepte alăturate de comentarii care vor explica semnificația lor;\n",
        "- În cod, comentarile, explicațiile și numele simbolurilor sunt în Engleza; explicațile din document sunt în Română;\n",
        "- Se vor aplica simplificări la modelele matematice conform teoriei grinzilor sandwich.\n",
        "\n",
        "# Definirea elementelor de bază pentru calculele analitice\n",
        "\n",
        "Pentru a simplifica restul aplicației vom începe prin a defini o serie de structuri care să modeleze conceptele din modelul analitic.\n",
        "Începem prin a defini structurile pentru parametrii de material, pentru geometria grinzii și pentru simularea statică.\n",
        "\n",
        "Vom defini 2 structuri diferite materiale, una va modela parametrii materialelor de înveliș iar cealalta parametrii materialelor de miez.  \n",
        "Pentru materialele de înveliș avem nevoie de:\n",
        "- Densitate ($\\rho$);\n",
        "- Modulul elastic longitudinal ($E_f$);\n",
        "- Tensiunea maximă admsibilă ($\\tau_{af}$);\n",
        "- Costul materialului în €/Kg.\n",
        "\n",
        "Pentru materialele de miez avem nevoie de:\n",
        "- Densitate ($\\rho$);\n",
        "- Modulul elastic longitudinal ($E_f$);\n",
        "- Modulul elastic transversal ($G_c$)\n",
        "- Tensiunea maximă admsibilă ($\\tau_{ac}$);\n",
        "- Costul materialului în €/Kg."
      ]
    },
    {
      "cell_type": "code",
      "metadata": {
        "id": "siSJVZy3Ri2p",
        "colab_type": "code",
        "colab": {}
      },
      "source": [
        "class SkinMaterialParameters:\n",
        "    def __init__(self, rho, Ef, tau_af, Cost):\n",
        "        self.rho = rho\n",
        "        self.Ef = Ef # Longitudinal Elastic Modulus\n",
        "        self.tau_af = tau_af # Persmissible Shear Stress\n",
        "        self.Cost = Cost # euro/kg\n",
        "\n",
        "class CoreMaterialParameters:\n",
        "    def __init__(self, rho, Ec, Gc, tau_ac, Cost):\n",
        "        self.rho = rho\n",
        "        self.Ec = Ec # Longitudinal Elastic Modulus\n",
        "        self.Gc = Gc # Transversal Elastic Modulus\n",
        "        self.tau_ac = tau_ac # Permissible Shear Stress\n",
        "        self.Cost = Cost"
      ],
      "execution_count": 10,
      "outputs": []
    },
    {
      "cell_type": "markdown",
      "metadata": {
        "id": "Ov8zhf3SYu3Q",
        "colab_type": "text"
      },
      "source": [
        "Pentru geometria grinzii avem nevoie de următorii parametrii:\n",
        "\n",
        "- Materialul pentru înveliș;\n",
        "- Materialul pentru miez;\n",
        "- Lungimea ($L$);\n",
        "- Lățimea ($b$);\n",
        "- Grosimea miezului ($tc$);\n",
        "- Grosimea învelișului ($tf$);"
      ]
    },
    {
      "cell_type": "code",
      "metadata": {
        "id": "L626BABzY6bg",
        "colab_type": "code",
        "colab": {}
      },
      "source": [
        "class BeamModel:\n",
        "    def __init__(self, L, b, tf, tc, skinMat, coreMat):\n",
        "        self.L = L # Lenght\n",
        "        self.b = b # Width\n",
        "        self.tf = tf # Skin height\n",
        "        self.tc = tc # Core height\n",
        "        self.SkinMat = skinMat # Material for the skin\n",
        "        self.CoreMat = coreMat # Material for the core"
      ],
      "execution_count": 11,
      "outputs": []
    },
    {
      "cell_type": "markdown",
      "metadata": {},
      "source": [
        "Ramâne să definim parametrii pentru simularea modelului analitic. Aici vom utiliza următoarele date:\n",
        "- Masa aplicată la capătul liber al grinzii ($m$);\n",
        "- Accelerația folosită pentru aplicarea condiției la limită ($a$);\n",
        "- Rigiditatea maximă admisă în grindă ($k_m$);\n",
        "- Modelul de grindă (instanță a clasei `BeamModel`);\n",
        "- Factorul de siguranță folosit în calculele tensiunilor ($s_f$)."
      ]
    },
    {
      "cell_type": "code",
      "execution_count": 12,
      "metadata": {},
      "outputs": [],
      "source": [
        "class BeamSimulation:\n",
        "    def __init__(self, m, a, km, model, sf):\n",
        "        self.m = m\n",
        "        self.a = a\n",
        "        self.km = km\n",
        "        self.model = model\n",
        "        self.sf = sf"
      ]
    },
    {
      "cell_type": "markdown",
      "metadata": {},
      "source": [
        "Cu aceste clase putem modela complet o simulare a unei grinzi. \n",
        "\n",
        "## Definirea propietătilor de material admise\n",
        "\n",
        "Adăugăm, conform specificaților impuse, propietățile de materiale."
      ]
    },
    {
      "cell_type": "code",
      "execution_count": 13,
      "metadata": {},
      "outputs": [],
      "source": [
        "from enum import Enum\n",
        "\n",
        "class SkinMaterials(Enum):\n",
        "    Steel = 1\n",
        "    Aluminium = 2\n",
        "    GFRP = 3\n",
        "    CFRP = 4\n",
        "\n",
        "class CoreMaterials(Enum):\n",
        "    DivinycellH60 = 1\n",
        "    DivinycellH100 = 2\n",
        "    DivinycellH130 = 3\n",
        "    DivinycellH200 = 4\n",
        "\n",
        "skin_materials = {\n",
        "    SkinMaterials.Steel: SkinMaterialParameters(7800, 205000 * 1e6, 300 * 1e6, 0.4),\n",
        "    SkinMaterials.Aluminium: SkinMaterialParameters(2700, 70000 * 1e6, 200 * 1e6, 0.7),\n",
        "    SkinMaterials.GFRP: SkinMaterialParameters(1600, 20000 * 1e6, 400 * 1e6, 4),\n",
        "    SkinMaterials.CFRP: SkinMaterialParameters(2700, 70000 * 1e6, 1000 * 1e6, 80)\n",
        "    }\n",
        "core_materials = {\n",
        "    CoreMaterials.DivinycellH60: CoreMaterialParameters(60, 550 * 1e6, 22 * 1e6, 0.6 * 1e6, 6),\n",
        "    CoreMaterials.DivinycellH100: CoreMaterialParameters(100, 95 * 1e6, 38 * 1e6, 1.2 * 1e6, 10),\n",
        "    CoreMaterials.DivinycellH130: CoreMaterialParameters(130, 125 * 1e6, 47 * 1e6, 1.6 * 1e6, 13),\n",
        "    CoreMaterials.DivinycellH200: CoreMaterialParameters(200, 195 * 1e6, 75 * 1e6, 3.0 * 1e6, 20),\n",
        "    }\n",
        "\n"
      ]
    },
    {
      "cell_type": "code",
      "execution_count": 14,
      "metadata": {},
      "outputs": [
        {
          "output_type": "error",
          "ename": "ModuleNotFoundError",
          "evalue": "No module named 'plotly'",
          "traceback": [
            "\u001b[1;31m---------------------------------------------------------------------------\u001b[0m",
            "\u001b[1;31mModuleNotFoundError\u001b[0m                       Traceback (most recent call last)",
            "\u001b[1;32m<ipython-input-14-edb2d71278db>\u001b[0m in \u001b[0;36m<module>\u001b[1;34m\u001b[0m\n\u001b[1;32m----> 1\u001b[1;33m \u001b[1;32mfrom\u001b[0m \u001b[0mplotly\u001b[0m\u001b[1;33m.\u001b[0m\u001b[0msubplots\u001b[0m \u001b[1;32mimport\u001b[0m \u001b[0mmake_subplots\u001b[0m\u001b[1;33m\u001b[0m\u001b[1;33m\u001b[0m\u001b[0m\n\u001b[0m\u001b[0;32m      2\u001b[0m \u001b[1;32mimport\u001b[0m \u001b[0mplotly\u001b[0m\u001b[1;33m.\u001b[0m\u001b[0mgraph_objects\u001b[0m \u001b[1;32mas\u001b[0m \u001b[0mgo\u001b[0m\u001b[1;33m\u001b[0m\u001b[1;33m\u001b[0m\u001b[0m\n\u001b[0;32m      3\u001b[0m \u001b[1;33m\u001b[0m\u001b[0m\n\u001b[0;32m      4\u001b[0m \u001b[0mlabels\u001b[0m \u001b[1;33m=\u001b[0m \u001b[1;33m[\u001b[0m\u001b[1;34m'Material'\u001b[0m\u001b[1;33m,\u001b[0m \u001b[1;34m'E (N/mm)'\u001b[0m\u001b[1;33m,\u001b[0m \u001b[1;34m'G (N/mm)'\u001b[0m\u001b[1;33m,\u001b[0m \u001b[1;34m'$tau$ (MPa)'\u001b[0m\u001b[1;33m,\u001b[0m \u001b[1;34m'Cost (€/kg)'\u001b[0m\u001b[1;33m]\u001b[0m\u001b[1;33m\u001b[0m\u001b[1;33m\u001b[0m\u001b[0m\n\u001b[0;32m      5\u001b[0m \u001b[0mvalues\u001b[0m \u001b[1;33m=\u001b[0m \u001b[1;33m[\u001b[0m\u001b[1;34m'test'\u001b[0m\u001b[1;33m,\u001b[0m \u001b[1;36m1\u001b[0m\u001b[1;33m,\u001b[0m \u001b[1;36m2\u001b[0m\u001b[1;33m,\u001b[0m \u001b[1;36m3\u001b[0m\u001b[1;33m,\u001b[0m \u001b[1;36m4\u001b[0m\u001b[1;33m]\u001b[0m\u001b[1;33m\u001b[0m\u001b[1;33m\u001b[0m\u001b[0m\n",
            "\u001b[1;31mModuleNotFoundError\u001b[0m: No module named 'plotly'"
          ]
        }
      ],
      "source": [
        "from plotly.subplots import make_subplots\n",
        "import plotly.graph_objects as go\n",
        "\n",
        "labels = ['Material', 'E (N/mm)', 'G (N/mm)', '$tau$ (MPa)', 'Cost (€/kg)']\n",
        "values = ['test', 1, 2, 3, 4]\n",
        "\n",
        "fig = go.Figure(data=[ go.Table(header=dict(values=labels), cells=dict(values=values))])\n",
        "fig.show()"
      ]
    },
    {
      "cell_type": "code",
      "execution_count": null,
      "metadata": {},
      "outputs": [],
      "source": []
    }
  ],
  "metadata": {
    "colab": {
      "name": "Structuri Ușoare - Grindă.ipynb",
      "provenance": [],
      "collapsed_sections": [],
      "authorship_tag": "ABX9TyM4HVci3uyEvu+Z6gA8cWgq",
      "include_colab_link": true
    },
    "kernelspec": {
      "name": "python3",
      "display_name": "Python 3"
    }
  },
  "nbformat": 4,
  "nbformat_minor": 0
}